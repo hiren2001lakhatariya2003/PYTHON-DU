{
 "cells": [
  {
   "cell_type": "code",
   "execution_count": 12,
   "metadata": {},
   "outputs": [
    {
     "ename": "TypeError",
     "evalue": "'list' object is not callable",
     "output_type": "error",
     "traceback": [
      "\u001b[0;31m---------------------------------------------------------------------------\u001b[0m",
      "\u001b[0;31mTypeError\u001b[0m                                 Traceback (most recent call last)",
      "\u001b[1;32m/Users/hirenlakhatariya/Documents/Sem-5/PYTHON/LAB/codeWithHarry.ipynb Cell 1\u001b[0m in \u001b[0;36m<cell line: 1>\u001b[0;34m()\u001b[0m\n\u001b[1;32m      <a href='vscode-notebook-cell:/Users/hirenlakhatariya/Documents/Sem-5/PYTHON/LAB/codeWithHarry.ipynb#W0sZmlsZQ%3D%3D?line=0'>1</a>\u001b[0m \u001b[39mif\u001b[39;00m \u001b[39m__name__\u001b[39m \u001b[39m==\u001b[39m \u001b[39m'\u001b[39m\u001b[39m__main__\u001b[39m\u001b[39m'\u001b[39m:\n\u001b[1;32m      <a href='vscode-notebook-cell:/Users/hirenlakhatariya/Documents/Sem-5/PYTHON/LAB/codeWithHarry.ipynb#W0sZmlsZQ%3D%3D?line=1'>2</a>\u001b[0m     n\u001b[39m=\u001b[39m\u001b[39mint\u001b[39m(\u001b[39minput\u001b[39m())\n\u001b[0;32m----> <a href='vscode-notebook-cell:/Users/hirenlakhatariya/Documents/Sem-5/PYTHON/LAB/codeWithHarry.ipynb#W0sZmlsZQ%3D%3D?line=2'>3</a>\u001b[0m     a\u001b[39m=\u001b[39m\u001b[39mlist\u001b[39;49m()\n\u001b[1;32m      <a href='vscode-notebook-cell:/Users/hirenlakhatariya/Documents/Sem-5/PYTHON/LAB/codeWithHarry.ipynb#W0sZmlsZQ%3D%3D?line=3'>4</a>\u001b[0m     \u001b[39mfor\u001b[39;00m _ \u001b[39min\u001b[39;00m \u001b[39mrange\u001b[39m(n):\n\u001b[1;32m      <a href='vscode-notebook-cell:/Users/hirenlakhatariya/Documents/Sem-5/PYTHON/LAB/codeWithHarry.ipynb#W0sZmlsZQ%3D%3D?line=4'>5</a>\u001b[0m         name \u001b[39m=\u001b[39m \u001b[39minput\u001b[39m()\n",
      "\u001b[0;31mTypeError\u001b[0m: 'list' object is not callable"
     ]
    }
   ],
   "source": [
    "if __name__ == '__main__':\n",
    "    n=int(input())\n",
    "    a=list()\n",
    "    for _ in range(n):\n",
    "        name = input()\n",
    "        score = float(input())\n",
    "        a.append([score,name])\n",
    "    a.sort()\n",
    "    marks=list()\n",
    "    for i in range(0,n):\n",
    "        if a[0][0] == a[i][0]:\n",
    "            marks.append(a[i][0])\n",
    "    \n",
    "    \n",
    "    for i in range(0,len(marks)):\n",
    "        if marks[i]==a[i][0]:\n",
    "            a.remove(a[i])\n",
    "            \n",
    "    for i in range(0,len(a)):\n",
    "        if a[0][0]==a[i][0]:\n",
    "            print(a[i][1])"
   ]
  }
 ],
 "metadata": {
  "kernelspec": {
   "display_name": "Python 3.10.6 64-bit",
   "language": "python",
   "name": "python3"
  },
  "language_info": {
   "codemirror_mode": {
    "name": "ipython",
    "version": 3
   },
   "file_extension": ".py",
   "mimetype": "text/x-python",
   "name": "python",
   "nbconvert_exporter": "python",
   "pygments_lexer": "ipython3",
   "version": "3.10.6"
  },
  "orig_nbformat": 4,
  "vscode": {
   "interpreter": {
    "hash": "aee8b7b246df8f9039afb4144a1f6fd8d2ca17a180786b69acc140d282b71a49"
   }
  }
 },
 "nbformat": 4,
 "nbformat_minor": 2
}

{
 "cells": [
  {
   "cell_type": "code",
   "execution_count": 16,
   "metadata": {},
   "outputs": [
    {
     "name": "stdout",
     "output_type": "stream",
     "text": [
      "[['1', '1', '1'],\n",
      " ['1', '1', '1'],\n",
      " ['1', '1', '1'],\n",
      " ['1', '1', '1'],\n",
      " ['1', '1', '1'],\n",
      " ['1', '1', '1'],\n",
      " ['1', '1', '1'],\n",
      " ['1', '1', '1'],\n",
      " ['1', '1', '1'],\n",
      " '2',\n",
      " '2',\n",
      " '2',\n",
      " '2',\n",
      " '2',\n",
      " '2',\n",
      " '2',\n",
      " '2',\n",
      " '2',\n",
      " '2',\n",
      " '2',\n",
      " '2',\n",
      " '2',\n",
      " '2',\n",
      " '2',\n",
      " '2',\n",
      " '2',\n",
      " '2',\n",
      " '2',\n",
      " '2',\n",
      " '2',\n",
      " '2',\n",
      " '2',\n",
      " '2',\n",
      " '2',\n",
      " '2',\n",
      " '2']\n"
     ]
    }
   ],
   "source": [
    "# Python program to merge two 3D list into one\n",
    "# importing pretty printed\n",
    "import pprint\n",
    "\n",
    "def ThreeD(a, b, c):\n",
    "\tlst1 =  ['1' for col in range(a) for col in range(b) for row in range(c)]\n",
    "\tlst2= ['2' for col in range(a) for col in range(b) for row in range(c)]\n",
    "\t# Merging using \"+\" operator\n",
    "\tlst = lst1+lst2\n",
    "\treturn lst\n",
    "\t\n",
    "# Driver Code\n",
    "col1 = 3\n",
    "col2 = 3\n",
    "row = 3\n",
    "\n",
    "# used the pretty printed function\n",
    "pprint.pprint(ThreeD(col1, col2, row))\n",
    "\n"
   ]
  }
 ],
 "metadata": {
  "kernelspec": {
   "display_name": "Python 3.10.6 64-bit",
   "language": "python",
   "name": "python3"
  },
  "language_info": {
   "codemirror_mode": {
    "name": "ipython",
    "version": 3
   },
   "file_extension": ".py",
   "mimetype": "text/x-python",
   "name": "python",
   "nbconvert_exporter": "python",
   "pygments_lexer": "ipython3",
   "version": "3.10.6"
  },
  "orig_nbformat": 4,
  "vscode": {
   "interpreter": {
    "hash": "aee8b7b246df8f9039afb4144a1f6fd8d2ca17a180786b69acc140d282b71a49"
   }
  }
 },
 "nbformat": 4,
 "nbformat_minor": 2
}

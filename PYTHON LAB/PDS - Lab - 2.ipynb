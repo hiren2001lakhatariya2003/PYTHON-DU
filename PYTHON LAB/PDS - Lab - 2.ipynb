{
 "cells": [
  {
   "cell_type": "markdown",
   "metadata": {},
   "source": [
    "\n",
    "___\n",
    "\n",
    "<a href='https://www.darshan.ac.in/'> <img src='https://gtu.darshan.ac.in/Upload/Logo/DIET_Logo.svg' /></a>\n",
    "___\n",
    "<pre>\n",
    "<center><b>Python for Data Science - 3150713</b></center>\n",
    "<center><b>Lab - 2</b></center>\n",
    "<center><i>Rewrite all the programs of Lab-1 with Function</i></center> \n",
    "<pre>"
   ]
  },
  {
   "cell_type": "markdown",
   "metadata": {},
   "source": [
    "# 01) WAP to add two numbers entered by user"
   ]
  },
  {
   "cell_type": "code",
   "execution_count": 2,
   "metadata": {},
   "outputs": [
    {
     "name": "stdout",
     "output_type": "stream",
     "text": [
      "5\n"
     ]
    }
   ],
   "source": [
    "def add(a,b) :\n",
    "    '''\n",
    "    DOCSTRING: addition of two number\n",
    "    '''\n",
    "    c=a+b\n",
    "    return c\n",
    "\n",
    "a=int(input(\"Enter the 1st number : \"))\n",
    "b=int(input(\"Enter the 2nd number : \"))\n",
    "print(add(a,b))"
   ]
  },
  {
   "cell_type": "markdown",
   "metadata": {},
   "source": [
    "# 02) WAP to calculate simple interest."
   ]
  },
  {
   "cell_type": "code",
   "execution_count": 7,
   "metadata": {},
   "outputs": [
    {
     "name": "stdout",
     "output_type": "stream",
     "text": [
      "1728.0\n"
     ]
    }
   ],
   "source": [
    "\n",
    "price = int(input(\"Enter the amount of money : \"))\n",
    "inter= float(input(\"Enter the interest :\"))\n",
    "time = int(input(\"Enter the time period(in month) : \"))\n",
    "\n",
    "def interest(p,i,t) :\n",
    "    '''\n",
    "    DOCSTRING:to find the simple interest with user input \n",
    "    '''\n",
    "    si = (p * i * t)/100\n",
    "    return si\n",
    "\n",
    "c =interest()\n",
    "print(c)"
   ]
  },
  {
   "cell_type": "markdown",
   "metadata": {},
   "source": [
    "# 03) WAP to calculate area of circle."
   ]
  },
  {
   "cell_type": "code",
   "execution_count": 8,
   "metadata": {},
   "outputs": [
    {
     "name": "stdout",
     "output_type": "stream",
     "text": [
      "452.57142857142856\n"
     ]
    }
   ],
   "source": [
    "radius = float(input(\"Enter the radius of circle : \"))\n",
    "\n",
    "def circulearea(r) :\n",
    "    '''\n",
    "    DOCSTRING: Find the area of circle\n",
    "    '''\n",
    "    area = (22/7)*r*r\n",
    "    return area\n",
    "\n",
    "print(circulearea(radius))\n"
   ]
  },
  {
   "cell_type": "markdown",
   "metadata": {},
   "source": [
    "# 04) WAP to print Multiplication table of given number without using loop."
   ]
  },
  {
   "cell_type": "code",
   "execution_count": 17,
   "metadata": {},
   "outputs": [
    {
     "name": "stdout",
     "output_type": "stream",
     "text": [
      "10 x 1 = 10\n",
      "10 x 2 = 20\n",
      "10 x 3 = 30\n",
      "10 x 4 = 40\n",
      "10 x 5 = 50\n",
      "10 x 6 = 60\n",
      "10 x 7 = 70\n",
      "10 x 8 = 80\n",
      "10 x 9 = 90\n",
      "10 x 10 = 100\n"
     ]
    }
   ],
   "source": [
    "number = int(input(\"enter the number :\"))\n",
    "\n",
    "def table(n) :\n",
    "    '''\n",
    "    DOCSTRING: multiplication table\n",
    "    '''\n",
    "    print(\"{} x 1 = {}\".format(n,(n*1)))\n",
    "    print(\"{} x 2 = {}\".format(n,(n*2)))\n",
    "    print(\"{} x 3 = {}\".format(n,(n*3)))\n",
    "    print(\"{} x 4 = {}\".format(n,(n*4)))\n",
    "    print(\"{} x 5 = {}\".format(n,(n*5)))\n",
    "    print(\"{} x 6 = {}\".format(n,(n*6)))\n",
    "    print(\"{} x 7 = {}\".format(n,(n*7)))\n",
    "    print(\"{} x 8 = {}\".format(n,(n*8)))\n",
    "    print(\"{} x 9 = {}\".format(n,(n*9)))\n",
    "    print(\"{} x 10 = {}\".format(n,(n*10)))\n",
    "\n",
    "table(number)\n",
    "    "
   ]
  },
  {
   "cell_type": "markdown",
   "metadata": {},
   "source": [
    "# 05) WAP to check whether the given number is positive or negative."
   ]
  },
  {
   "cell_type": "code",
   "execution_count": 20,
   "metadata": {},
   "outputs": [
    {
     "name": "stdout",
     "output_type": "stream",
     "text": [
      "1 is Positive\n"
     ]
    }
   ],
   "source": [
    "number = int(input(\"enter the number :\"))\n",
    "\n",
    "def check_number(n) :\n",
    "    ''' \n",
    "    DOCSTRING: check given number is positive , nagative or zero\n",
    "    '''\n",
    "\n",
    "    if n>0 :\n",
    "        print(\"{} is Positive\".format(n))\n",
    "    elif n <0:\n",
    "        print(\"{} is Nagative\".format(n))\n",
    "    else : \n",
    "        print(\"{} is Zero\".format(n))\n",
    "\n",
    "check_number(number)"
   ]
  },
  {
   "cell_type": "markdown",
   "metadata": {},
   "source": [
    "# 06) WAP to find out largest number from given three numbers."
   ]
  },
  {
   "cell_type": "code",
   "execution_count": 22,
   "metadata": {},
   "outputs": [
    {
     "name": "stdout",
     "output_type": "stream",
     "text": [
      "45\n"
     ]
    }
   ],
   "source": [
    "num1 = int(input(\"Enter 1st number : \"))\n",
    "num2= int(input(\"Enter 2nd number : \"))\n",
    "num3 = int(input(\"Enter 3rd number : \"))\n",
    "\n",
    "def max(n1,n2,n3) :\n",
    "    '''\n",
    "    find the max number from 3 inputs\n",
    "    '''\n",
    "    if n1>n2:\n",
    "        if n1>n3:\n",
    "            return n1\n",
    "        else:\n",
    "            return n3\n",
    "    else:\n",
    "        if n2>n3:\n",
    "            return n2\n",
    "        else:\n",
    "            return n3\n",
    "\n",
    "print(max(num1,num2,num3))\n"
   ]
  },
  {
   "cell_type": "markdown",
   "metadata": {},
   "source": [
    "# 07) WAP to implement simple calculator which performs (add,sub,mul,div) of two numbers based on user input."
   ]
  },
  {
   "cell_type": "code",
   "execution_count": 23,
   "metadata": {},
   "outputs": [
    {
     "name": "stdout",
     "output_type": "stream",
     "text": [
      "10 + 25 = 35 \n"
     ]
    }
   ],
   "source": [
    "num1 = int(input(\"Enter 1st number : \"))\n",
    "num2= int(input(\"Enter 2nd number : \"))\n",
    "char= input(\"Enter character : \")\n",
    "\n",
    "def calculator(n1,n2,char):\n",
    "\n",
    "    if char == '+' : \n",
    "        return num1 + num2\n",
    "    if char == '-':\n",
    "        return num1 - num2\n",
    "    if char == '*':\n",
    "        return num1 * num2\n",
    "    if char == '/':\n",
    "        if num2 == 0 :\n",
    "            print(\"do not divide by zero\")\n",
    "        else :\n",
    "            return num1/num2\n",
    "\n",
    "ans=(calculator(num1,num2,char))\n",
    "\n",
    "print('{0} {1} {2} = {3} '.format(num1,char,num2,ans))\n"
   ]
  },
  {
   "cell_type": "markdown",
   "metadata": {},
   "source": [
    "# 08) WAP to print 1 to n"
   ]
  },
  {
   "cell_type": "code",
   "execution_count": 28,
   "metadata": {},
   "outputs": [
    {
     "name": "stdout",
     "output_type": "stream",
     "text": [
      "1\n",
      "2\n",
      "3\n",
      "4\n",
      "5\n",
      "6\n",
      "7\n",
      "8\n",
      "9\n",
      "10\n"
     ]
    }
   ],
   "source": [
    "number = int(input(\"Enter the number : \"))\n",
    "\n",
    "def printnum(num):\n",
    "        return num\n",
    "\n",
    "for i in range(1,number+1):\n",
    "    print(printnum(i))"
   ]
  },
  {
   "cell_type": "markdown",
   "metadata": {},
   "source": [
    "# 09) WAP to print odd numbers between 1 to n"
   ]
  },
  {
   "cell_type": "code",
   "execution_count": 30,
   "metadata": {},
   "outputs": [
    {
     "name": "stdout",
     "output_type": "stream",
     "text": [
      "1\n",
      "3\n",
      "5\n",
      "7\n",
      "9\n"
     ]
    }
   ],
   "source": [
    "number = int(input(\"Enter the number : \"))\n",
    "\n",
    "def printnum(num):\n",
    "    return num\n",
    "\n",
    "for i in range(1,number+1):\n",
    "    if i%2!=0 :\n",
    "        print(printnum(i))"
   ]
  },
  {
   "cell_type": "markdown",
   "metadata": {},
   "source": [
    "# 10) WAP to print sum of series 1–2+3–4+5–6+7...n"
   ]
  },
  {
   "cell_type": "code",
   "execution_count": 45,
   "metadata": {},
   "outputs": [
    {
     "name": "stdout",
     "output_type": "stream",
     "text": [
      "-5\n"
     ]
    }
   ],
   "source": [
    "number = int(input(\"enter the number : \"))\n",
    "sum=0\n",
    "\n",
    "def sumOfSeries(n) :\n",
    "    if n%2==0:\n",
    "        return -n\n",
    "    else:\n",
    "        returnn\n",
    "\n",
    "for i in range (1,number+1):\n",
    "    sum = sum +sumOfSeries(i)\n",
    "\n",
    "print(sum)"
   ]
  },
  {
   "cell_type": "markdown",
   "metadata": {},
   "source": [
    "# 11) WAP to print multiplication table of given number."
   ]
  },
  {
   "cell_type": "code",
   "execution_count": 46,
   "metadata": {},
   "outputs": [
    {
     "name": "stdout",
     "output_type": "stream",
     "text": [
      "10 x 1 = 10\n",
      "10 x 2 = 20\n",
      "10 x 3 = 30\n",
      "10 x 4 = 40\n",
      "10 x 5 = 50\n",
      "10 x 6 = 60\n",
      "10 x 7 = 70\n",
      "10 x 8 = 80\n",
      "10 x 9 = 90\n",
      "10 x 10 = 100\n"
     ]
    }
   ],
   "source": [
    "number = int(input(\"enter the number : \"))\n",
    "\n",
    "def mul(n,i) : \n",
    "    return n * i\n",
    "\n",
    "for i in range(1,number+1):\n",
    "    print(\"{} x {} = {}\".format(number,i,mul(number,i)))"
   ]
  },
  {
   "cell_type": "markdown",
   "metadata": {},
   "source": [
    "# 12) WAP to find factorial of the given number."
   ]
  },
  {
   "cell_type": "code",
   "execution_count": 70,
   "metadata": {},
   "outputs": [
    {
     "name": "stdout",
     "output_type": "stream",
     "text": [
      "6\n"
     ]
    }
   ],
   "source": [
    "number = int(input(\"enter the number : \"))\n",
    "fact = 1\n",
    "\n",
    "def factorial(f,n):\n",
    "    for i in range (1,n+1):\n",
    "        f = f*i\n",
    "    return f\n",
    "\n",
    "print(factorial(fact,number))         \n",
    "\n"
   ]
  },
  {
   "cell_type": "markdown",
   "metadata": {},
   "source": [
    "# 13) WAP to find factors of the given number."
   ]
  },
  {
   "cell_type": "code",
   "execution_count": 66,
   "metadata": {},
   "outputs": [
    {
     "name": "stdout",
     "output_type": "stream",
     "text": [
      "1\n",
      "2\n",
      "5\n",
      "10\n"
     ]
    }
   ],
   "source": [
    "number = int(input(\"enter the number : \"))\n",
    "\n",
    "def factor(n):\n",
    "    for i in range(1,n+1):\n",
    "        if n%i==0 :\n",
    "            print(i)\n",
    "factor(number)\n",
    "            "
   ]
  },
  {
   "cell_type": "markdown",
   "metadata": {},
   "source": [
    "# 14) WAP to find whether the given number is prime or not."
   ]
  },
  {
   "cell_type": "code",
   "execution_count": 87,
   "metadata": {},
   "outputs": [
    {
     "name": "stdout",
     "output_type": "stream",
     "text": [
      "not prime\n"
     ]
    }
   ],
   "source": [
    "number = int(input(\"enter the number : \"))\n",
    "\n",
    "def isprime(num):\n",
    "    flag=0\n",
    "    if num> 1:  \n",
    "        for n in range(2,num):  \n",
    "            if (num % n) == 0:  \n",
    "                flag=1\n",
    "    if flag==1:\n",
    "        return \"not prime\"\n",
    "    else:\n",
    "        return \"prime\"\n",
    "\n",
    "\n",
    "print(isprime(number))"
   ]
  },
  {
   "cell_type": "markdown",
   "metadata": {},
   "source": [
    "# 15) WAP to print sum of digits of given number."
   ]
  },
  {
   "cell_type": "code",
   "execution_count": 89,
   "metadata": {},
   "outputs": [
    {
     "name": "stdout",
     "output_type": "stream",
     "text": [
      "6\n"
     ]
    }
   ],
   "source": [
    "number=int(input(\"Enter the number\"))\n",
    "\n",
    "def digit(n):\n",
    "    sum=0\n",
    "    while(n!=0):\n",
    "        rem=n%10\n",
    "        sum+=int(rem)\n",
    "        n=n/10\n",
    "    return sum\n",
    "\n",
    "print(digit(number))"
   ]
  },
  {
   "cell_type": "markdown",
   "metadata": {},
   "source": [
    "# 16) WAP to find out prime numbers between given two numbers."
   ]
  },
  {
   "cell_type": "code",
   "execution_count": 95,
   "metadata": {},
   "outputs": [
    {
     "name": "stdout",
     "output_type": "stream",
     "text": [
      "2\n",
      "3\n",
      "5\n",
      "7\n",
      "11\n",
      "13\n",
      "17\n",
      "19\n"
     ]
    }
   ],
   "source": [
    "num1 = int(input(\"Enter 1st number : \"))\n",
    "num2 = int(input(\"Enter 2nd number : \"))\n",
    "\n",
    "def prime(num1,num2):\n",
    "    for i in range(num1,num2):\n",
    "        flag=0\n",
    "        for j in range(2,i):\n",
    "            if i%j==0:\n",
    "                flag=1\n",
    "                break\n",
    "        if flag==0:\n",
    "            print(i)\n",
    "            \n",
    "prime(num1,num2)"
   ]
  },
  {
   "cell_type": "markdown",
   "metadata": {},
   "source": [
    "# 17) WAP to print Fibonacci series up to number given by user."
   ]
  },
  {
   "cell_type": "code",
   "execution_count": null,
   "metadata": {},
   "outputs": [],
   "source": []
  },
  {
   "cell_type": "code",
   "execution_count": 96,
   "metadata": {},
   "outputs": [
    {
     "name": "stdout",
     "output_type": "stream",
     "text": [
      "0  1  1  2  3  "
     ]
    }
   ],
   "source": [
    "number = int(input(\"Enter number : \"))\n",
    "a = 0\n",
    "b = 1\n",
    "\n",
    "def fibo(a,b,number):\n",
    "    print (\"{}  {}\".format(a,b),end=\"  \")\n",
    "    for i in range (2,number) :\n",
    "        c = a + b\n",
    "        print (c,end=\"  \")\n",
    "        a=b\n",
    "        b=c\n",
    "fibo(a,b,number)"
   ]
  },
  {
   "cell_type": "markdown",
   "metadata": {},
   "source": [
    "# 18) WAP to Find largest prime factor of given number."
   ]
  },
  {
   "cell_type": "code",
   "execution_count": 128,
   "metadata": {},
   "outputs": [
    {
     "name": "stdout",
     "output_type": "stream",
     "text": [
      "17\n"
     ]
    }
   ],
   "source": [
    "number= int(input(\"Enter the number : \"))\n",
    "flag=0\n",
    "list=[]\n",
    "\n",
    "def maxPrime(n,flag,mylist):\n",
    "    for i in range (1,n+1) :\n",
    "        if n%i==0 :\n",
    "            for j in range (2,i) :\n",
    "                if i%j==0 :\n",
    "                    flag=1\n",
    "                    break\n",
    "            if flag==0 :\n",
    "                mylist.append(i)\n",
    "    print(mylist[len(mylist)-1])\n",
    "\n",
    "maxPrime(number,flag,list)"
   ]
  },
  {
   "cell_type": "markdown",
   "metadata": {},
   "source": [
    "# 19) WAP to print sum for cube of first n natural numbers."
   ]
  },
  {
   "cell_type": "code",
   "execution_count": 9,
   "metadata": {},
   "outputs": [
    {
     "name": "stdout",
     "output_type": "stream",
     "text": [
      "225\n"
     ]
    }
   ],
   "source": [
    "number=int(input(\"Enter the number:\"))\n",
    "sum=0\n",
    "\n",
    "def cubesum(n,s):\n",
    "    for i in range(1,n+1):\n",
    "        s+=(i*i*i)\n",
    "    return s\n",
    "print(cubesum(number,sum))"
   ]
  },
  {
   "cell_type": "markdown",
   "metadata": {},
   "source": [
    "# 20) WAP to converts the given decimal number to its binary equivalent.\n",
    "\n"
   ]
  },
  {
   "cell_type": "code",
   "execution_count": 121,
   "metadata": {},
   "outputs": [
    {
     "name": "stdout",
     "output_type": "stream",
     "text": [
      "1 1 0 0 "
     ]
    }
   ],
   "source": [
    "number=int(input(\"enter the number : \"))\n",
    "list=[]\n",
    "\n",
    "def binary(n,mylist):\n",
    "    while n!=0 :\n",
    "        reminder = n%2\n",
    "        mylist.append(reminder)\n",
    "        n=(int)(n/2)\n",
    "\n",
    "    mylist.reverse()\n",
    "\n",
    "    for i in range (0,len(mylist)) : \n",
    "        print(mylist[i],end=\" \")\n",
    "\n",
    "binary(number,list)\n"
   ]
  },
  {
   "cell_type": "markdown",
   "metadata": {},
   "source": [
    "# 21) WAP to print following pattern\n",
    "\n",
    "<pre>\n",
    "*\n",
    "* *\n",
    "* * *\n",
    "* * * *\n",
    "</pre>\n"
   ]
  },
  {
   "cell_type": "code",
   "execution_count": 120,
   "metadata": {},
   "outputs": [
    {
     "name": "stdout",
     "output_type": "stream",
     "text": [
      "*  \n",
      "*  *  \n",
      "*  *  *  \n",
      "*  *  *  *  \n"
     ]
    }
   ],
   "source": [
    "number =int(input(\"enter the number : \"))\n",
    "\n",
    "def pattern(n):\n",
    "    for i in range (1,n+1) :\n",
    "        for j in range (1,i+1) :\n",
    "            print(\"*  \", end=\"\")\n",
    "        print(end=\"\\n\")\n",
    "\n",
    "pattern(number)"
   ]
  },
  {
   "cell_type": "markdown",
   "metadata": {},
   "source": [
    "# 22) WAP to print following pattern\n",
    "\n",
    "<pre>$ $ $ $\n",
    "$ $ $\n",
    "$ $\n",
    "$</pre>\n"
   ]
  },
  {
   "cell_type": "code",
   "execution_count": 136,
   "metadata": {},
   "outputs": [
    {
     "name": "stdout",
     "output_type": "stream",
     "text": [
      "$  $  $  $  \n",
      "$  $  $  \n",
      "$  $  \n",
      "$  \n"
     ]
    }
   ],
   "source": [
    "number =int(input(\"enter the number : \"))\n",
    "\n",
    "def pattern(n):\n",
    "    for i in range(n,0,-1):\n",
    "        for j in range(0,i):\n",
    "            print(\"$\",end=\"  \")\n",
    "        print(end=\"\\n\")\n",
    "\n",
    "pattern(number)"
   ]
  },
  {
   "cell_type": "markdown",
   "metadata": {},
   "source": [
    "# 23) WAP to print following pattern\n",
    "\n",
    "<pre>\n",
    "# # # # #\n",
    "  # # #\n",
    "    #\n",
    "  # # #\n",
    "# # # # #\n",
    "</pre>\n"
   ]
  },
  {
   "cell_type": "code",
   "execution_count": null,
   "metadata": {},
   "outputs": [],
   "source": []
  },
  {
   "cell_type": "markdown",
   "metadata": {},
   "source": [
    "# 24) WAP to print following pattern\n",
    "\n",
    "<pre>\n",
    "1\n",
    "2 3\n",
    "4 5 6\n",
    "7 8 9 10\n",
    "</pre>\n"
   ]
  },
  {
   "cell_type": "code",
   "execution_count": 144,
   "metadata": {},
   "outputs": [
    {
     "name": "stdout",
     "output_type": "stream",
     "text": [
      "1  \n",
      "2  3  \n",
      "4  5  6  \n",
      "7  8  9  10  \n"
     ]
    }
   ],
   "source": [
    "number =int(input(\"enter the number : \"))\n",
    "patternNumber=1\n",
    "def pattern(n,temp):\n",
    "    for i in range(1,n+1):\n",
    "        for j in range(1,i+1):\n",
    "            print(\"{}  \".format(temp), end=\"\")\n",
    "            temp+=1\n",
    "        print(end=\"\\n\")\n",
    "pattern(number,patternNumber)"
   ]
  }
 ],
 "metadata": {
  "kernelspec": {
   "display_name": "Python 3.10.6 64-bit",
   "language": "python",
   "name": "python3"
  },
  "language_info": {
   "codemirror_mode": {
    "name": "ipython",
    "version": 3
   },
   "file_extension": ".py",
   "mimetype": "text/x-python",
   "name": "python",
   "nbconvert_exporter": "python",
   "pygments_lexer": "ipython3",
   "version": "3.10.6"
  },
  "vscode": {
   "interpreter": {
    "hash": "aee8b7b246df8f9039afb4144a1f6fd8d2ca17a180786b69acc140d282b71a49"
   }
  }
 },
 "nbformat": 4,
 "nbformat_minor": 4
}

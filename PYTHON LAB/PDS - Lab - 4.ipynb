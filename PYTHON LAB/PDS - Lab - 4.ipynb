{
 "cells": [
  {
   "cell_type": "markdown",
   "metadata": {
    "id": "5IxH57pmG-GY"
   },
   "source": [
    "\n",
    "___\n",
    "\n",
    "<a href='https://www.darshan.ac.in/'> <img src='https://gtu.darshan.ac.in/Upload/Logo/DIET_Logo.svg' /></a>\n",
    "___\n",
    "<pre>\n",
    "<center><b>Python for Data Science - 3150713</b></center>\n",
    "<center><b>Lab - 4</b></center>    \n",
    "<pre>"
   ]
  },
  {
   "cell_type": "markdown",
   "metadata": {
    "id": "_FHUM-CHG-Gd"
   },
   "source": [
    "# 01) WAP to find sum of all the elements in List."
   ]
  },
  {
   "cell_type": "code",
   "execution_count": 1,
   "metadata": {
    "id": "ybLtCnveG-Ge",
    "outputId": "092082a0-6010-4ee1-fd15-376801468c73"
   },
   "outputs": [
    {
     "name": "stdout",
     "output_type": "stream",
     "text": [
      "15\n"
     ]
    }
   ],
   "source": [
    "mylist=[]\n",
    "sum=0\n",
    "n=int(input(\"Enter the size of list:\"))\n",
    "\n",
    "for i in range (0,n):\n",
    "    mylist.append(int(input()))\n",
    "    sum+=mylist[i]\n",
    "\n",
    "print(sum)\n"
   ]
  },
  {
   "cell_type": "markdown",
   "metadata": {
    "id": "6-sXb9PSG-Gh"
   },
   "source": [
    "# 02) WAP to find largest element in a List."
   ]
  },
  {
   "cell_type": "code",
   "execution_count": 2,
   "metadata": {
    "id": "oTUGWtFZG-Gi",
    "outputId": "bbba26cc-04aa-40ad-c902-f976ee34d20a"
   },
   "outputs": [
    {
     "name": "stdout",
     "output_type": "stream",
     "text": [
      "23\n"
     ]
    }
   ],
   "source": [
    "mylist=[]\n",
    "n=int(input(\"Enter the size of list:\"))\n",
    "\n",
    "for i in range(0,n):\n",
    "    mylist.append(int(input()))\n",
    "mylist.sort()\n",
    "print(mylist[n-1])"
   ]
  },
  {
   "cell_type": "markdown",
   "metadata": {
    "id": "1J0WHwUNG-Gj"
   },
   "source": [
    "# 03) WAP to split the List into two and append the first part to the end."
   ]
  },
  {
   "cell_type": "code",
   "execution_count": 11,
   "metadata": {
    "id": "hXcf57rdG-Gk",
    "outputId": "fec29838-ef07-4033-92ad-49786f3c7efb"
   },
   "outputs": [
    {
     "name": "stdout",
     "output_type": "stream",
     "text": [
      "[5, 6, 7, 8, 1, 2, 3, 4]\n"
     ]
    }
   ],
   "source": [
    "mylist=[]\n",
    "n=int(input(\"Enter the size of list:\"))\n",
    "first=[]\n",
    "second=[]\n",
    "for i in range(0,n):\n",
    "    mylist.append(int(input()))\n",
    "\n",
    "for i in range (0,n):\n",
    "    if i<n/2:\n",
    "        first.append(mylist[i])\n",
    "    else:\n",
    "        second.append(mylist[i])\n",
    "mylist.clear()\n",
    "\n",
    "mylist.extend(second)\n",
    "mylist.extend(first)\n",
    "print(mylist)\n",
    "\n"
   ]
  },
  {
   "cell_type": "markdown",
   "metadata": {
    "id": "q9WGqT_bG-Gl"
   },
   "source": [
    "# 04) WAP to interchange first and last element in list entered by a user."
   ]
  },
  {
   "cell_type": "code",
   "execution_count": 13,
   "metadata": {
    "id": "dPvM9W0dG-Gm",
    "outputId": "41637451-4895-4166-864e-0792ba7a356d"
   },
   "outputs": [
    {
     "name": "stdout",
     "output_type": "stream",
     "text": [
      "[5, 2, 3, 4, 1]\n"
     ]
    }
   ],
   "source": [
    "n=int(input(\"Enter the size of list\"))\n",
    "mylist=[]\n",
    "for i in range(0,n):\n",
    "    mylist.append(int(input()))\n",
    "\n",
    "temp=mylist[0]\n",
    "mylist[0]=mylist[n-1] \n",
    "mylist[n-1]=temp\n",
    "\n",
    "print(mylist)"
   ]
  },
  {
   "cell_type": "markdown",
   "metadata": {
    "id": "vfr11EOSG-Gn"
   },
   "source": [
    "# 05) WAP to interchange the elements on two positions entered by a user."
   ]
  },
  {
   "cell_type": "code",
   "execution_count": 18,
   "metadata": {
    "id": "9AXXFjmXG-Go",
    "outputId": "2c0f53db-7071-41d3-bc03-af215bae7e21"
   },
   "outputs": [
    {
     "name": "stdout",
     "output_type": "stream",
     "text": [
      "[1, 3, 2, 4, 5]\n"
     ]
    }
   ],
   "source": [
    "n=int(input(\"Enter the size of list\"))\n",
    "mylist=[]\n",
    "for i in range(0,n):\n",
    "    mylist.append(int(input()))\n",
    "\n",
    "first_position = int(input(\"Enter the first position :\"))\n",
    "second_position = int(input(\"Enter the second position :\"))\n",
    "\n",
    "temp = mylist[first_position-1] # from user side point of view (position between 1 to n)\n",
    "mylist[first_position-1]=mylist[second_position-1]\n",
    "mylist[second_position-1]=temp\n",
    "\n",
    "print(mylist)"
   ]
  },
  {
   "cell_type": "markdown",
   "metadata": {
    "id": "VABvkcqXG-Gp"
   },
   "source": [
    "# 06) WAP to remove Nth occurrence of the given word in the list entered by user."
   ]
  },
  {
   "cell_type": "code",
   "execution_count": 17,
   "metadata": {
    "id": "e5YWmQ8RG-Gq",
    "outputId": "4d43d37c-a263-49c0-d713-eabe7029aceb"
   },
   "outputs": [
    {
     "name": "stdout",
     "output_type": "stream",
     "text": [
      "[2, 3]\n"
     ]
    }
   ],
   "source": [
    "n=int(input(\"Enter the size of list\"))\n",
    "mylist=[]\n",
    "for i in range(0,n):\n",
    "    mylist.append(int(input()))\n",
    "position = int(input(\"Enter the position :\"))\n",
    "\n",
    "mylist.pop(position-1) # from user side point of view (position between 1 to n)\n",
    "\n",
    "print(mylist)\n"
   ]
  },
  {
   "cell_type": "markdown",
   "metadata": {
    "id": "Y7RN-OcVG-Gr"
   },
   "source": [
    "# 07) WAP to check whether given element exits in list or not."
   ]
  },
  {
   "cell_type": "code",
   "execution_count": 22,
   "metadata": {
    "id": "hxzXNra_G-Gs",
    "outputId": "f17bd96d-32af-4d8f-bf58-fadadcab1110"
   },
   "outputs": [
    {
     "name": "stdout",
     "output_type": "stream",
     "text": [
      "not found\n"
     ]
    }
   ],
   "source": [
    "n=int(input(\"Enter the size of list\"))\n",
    "mylist=[]\n",
    "flag=False\n",
    "for i in range(0,n):\n",
    "    mylist.append(input())\n",
    "\n",
    "check_element = input(\"Enter the element:\")\n",
    "\n",
    "for i in range(0,n):\n",
    "    if mylist[i]==check_element:\n",
    "        print(\"It Exist at\",i+1,\"th position.\") # from user side point of view (position between 1 to n)\n",
    "        flag=True\n",
    "    \n",
    "if flag==False:\n",
    "    print(\"not found\")"
   ]
  },
  {
   "cell_type": "markdown",
   "metadata": {
    "id": "ykN1fAPrG-Gt"
   },
   "source": [
    "# 08) WAP to reverser the list entered by user."
   ]
  },
  {
   "cell_type": "code",
   "execution_count": 25,
   "metadata": {
    "id": "GRPbL1LWG-Gu",
    "outputId": "370fee2d-7e89-441a-99ab-19f37e4414e7"
   },
   "outputs": [
    {
     "name": "stdout",
     "output_type": "stream",
     "text": [
      "['5', '4', '3', '2', '1']\n"
     ]
    }
   ],
   "source": [
    "n=int(input(\"Enter the size of list\"))\n",
    "mylist=[]\n",
    "flag=False\n",
    "for i in range(0,n):\n",
    "    mylist.append(input())\n",
    "\n",
    "print(mylist[::-1])"
   ]
  },
  {
   "cell_type": "markdown",
   "metadata": {
    "id": "3QDjgOCTG-Gw"
   },
   "source": [
    "# 09) WAP to print all positive number in list entered by user."
   ]
  },
  {
   "cell_type": "code",
   "execution_count": 30,
   "metadata": {
    "id": "g06Bs0oEG-Gw",
    "outputId": "a9d8bdd0-7035-4155-acae-7e275c71a36b"
   },
   "outputs": [
    {
     "name": "stdout",
     "output_type": "stream",
     "text": [
      "1 2 3 4 "
     ]
    }
   ],
   "source": [
    "n=int(input(\"Enter the size of list\"))\n",
    "mylist=[]\n",
    "flag=False\n",
    "for i in range(0,n):\n",
    "    mylist.append(int(input()))\n",
    "\n",
    "for i in mylist:\n",
    "    if i>0:\n",
    "        print(i,end=\" \")\n",
    "\n"
   ]
  },
  {
   "cell_type": "markdown",
   "metadata": {
    "id": "C0DzX7IYG-Gx"
   },
   "source": [
    "# 10) WAP to check if given array is monotonic or not."
   ]
  },
  {
   "cell_type": "code",
   "execution_count": 40,
   "metadata": {
    "id": "2UHVeuNTG-Gy"
   },
   "outputs": [
    {
     "name": "stdout",
     "output_type": "stream",
     "text": [
      "False\n"
     ]
    }
   ],
   "source": [
    "n=int(input(\"Enter the size of array :\"))\n",
    "mylist=[]\n",
    "flag=0\n",
    "for i in range(0,n):\n",
    "    mylist.append(int(input()))\n",
    "\n",
    "print((all(mylist[i]>=mylist[i+1] for i in range (len(mylist)-1)) or \n",
    "        all(mylist[i]<=mylist[i+1] for i in range (len(mylist)-1))))"
   ]
  },
  {
   "cell_type": "markdown",
   "metadata": {
    "id": "TXeCXfFZG-Gz"
   },
   "source": [
    "# 11) WAP which takes 2 digits, X,Y as input and generates a 2-dimensional array of size X * Y. The element value in the i-th row and j-th column of the array should be i*j. Note: i=0,1.., X-1; j=0,1,¡­Y-1."
   ]
  },
  {
   "cell_type": "code",
   "execution_count": 1,
   "metadata": {
    "id": "iA10lUgVG-G0"
   },
   "outputs": [
    {
     "name": "stdout",
     "output_type": "stream",
     "text": [
      "1 2 3 \n",
      "4 5 6 \n"
     ]
    }
   ],
   "source": [
    "row=int(input(\"Row : \"))\n",
    "column=int(input(\"Column : \"))\n",
    "a=[]\n",
    "for i in range(row):\n",
    "    a.append([0]*column)\n",
    "\n",
    "for i in range(len(a)):\n",
    "    for j in range(len(a[0])):\n",
    "        a[i][j]=int(input())\n",
    "        \n",
    "for i in range(len(a)):\n",
    "    for j in range(len(a[0])):\n",
    "        print(a[i][j],end=\" \")\n",
    "    print()"
   ]
  },
  {
   "cell_type": "markdown",
   "metadata": {
    "id": "nCHxeKKfG-G1"
   },
   "source": [
    "# 12) WAP to find median of array."
   ]
  },
  {
   "cell_type": "code",
   "execution_count": 21,
   "metadata": {
    "id": "vicmGyv5G-G2"
   },
   "outputs": [
    {
     "name": "stdout",
     "output_type": "stream",
     "text": [
      "4.5\n"
     ]
    }
   ],
   "source": [
    "n=int(input(\"Enter the size of array\"))\n",
    "a=[]\n",
    "for i in range (0,n):\n",
    "    a.append(int(input()))\n",
    "\n",
    "if n%2!=0:\n",
    "    print(a[int(len(a)/2)])\n",
    "if n%2==0:\n",
    "    c= (a[int(len(a)/2)] + a[int(len(a)/2)-1])/2\n",
    "    print(c)\n",
    "    "
   ]
  },
  {
   "cell_type": "markdown",
   "metadata": {
    "id": "7M6h6L6pG-G3"
   },
   "source": [
    "# 13) Write a program that interchanges the odd and even elements of an array."
   ]
  },
  {
   "cell_type": "code",
   "execution_count": null,
   "metadata": {
    "id": "nqLeumgaG-G3"
   },
   "outputs": [],
   "source": []
  },
  {
   "cell_type": "markdown",
   "metadata": {
    "id": "wcb7jun0G-G4"
   },
   "source": [
    "# 14) WAP to find given number in the list and print the position of number using sequential search."
   ]
  },
  {
   "cell_type": "code",
   "execution_count": 26,
   "metadata": {
    "id": "KMemq0TQG-G4"
   },
   "outputs": [
    {
     "name": "stdout",
     "output_type": "stream",
     "text": [
      "3 is at 2 th position\n"
     ]
    }
   ],
   "source": [
    "size=int(input(\"Enter the array size\"))\n",
    "a=[]\n",
    "\n",
    "for i in range (0,size):\n",
    "    a.append(int(input()))\n",
    "\n",
    "find=int(input(\"Enter the element for find in array :\"))\n",
    "\n",
    "for i in range(0,size):\n",
    "    if a[i]==find:\n",
    "        print(find,\"is at\",i,\" position\")\n",
    "        break"
   ]
  },
  {
   "cell_type": "markdown",
   "metadata": {
    "id": "UcuL0Y0OG-G5"
   },
   "source": [
    "# 15) WAP to multiply two 3*3 matrix."
   ]
  },
  {
   "cell_type": "code",
   "execution_count": 59,
   "metadata": {
    "id": "cuTT48YYG-G5"
   },
   "outputs": [
    {
     "name": "stdout",
     "output_type": "stream",
     "text": [
      "12 15 18 \n",
      "24 30 36 \n",
      "36 45 54 \n"
     ]
    }
   ],
   "source": [
    "from operator import le\n",
    "from re import L\n",
    "from unittest import result\n",
    "\n",
    "\n",
    "row=3\n",
    "column=3\n",
    "a=[]\n",
    "b=[]\n",
    "c=[]\n",
    "for i in range(row):\n",
    "    a.append([0]*column)\n",
    "    b.append([0]*column)\n",
    "    c.append([0]*column)\n",
    "for i in range(len(a)):\n",
    "    for j in range(len(a[0])):\n",
    "        a[i][j]=int(input())\n",
    "\n",
    "for i in range(len(b)):\n",
    "    for j in range(len(b[0])):\n",
    "        b[i][j]=int(input())\n",
    "\n",
    "for i in range (len(a)):\n",
    "    for j in range (len(b[0])):\n",
    "        for k in range (len(b)):\n",
    "            c[i][j] += a[i][k] * b[k][j]\n",
    "    \n",
    "for i in range (len(c)):\n",
    "    for j in range (len (c[0])):\n",
    "        print(c[i][j],end=\" \")\n",
    "    print()"
   ]
  },
  {
   "cell_type": "markdown",
   "metadata": {
    "id": "rs7xIVBNG-G6"
   },
   "source": [
    "# 16) Write one line of Python code that returns list of even elements of the given list."
   ]
  },
  {
   "cell_type": "code",
   "execution_count": 36,
   "metadata": {
    "id": "RV1TlJwYG-G7"
   },
   "outputs": [
    {
     "name": "stdout",
     "output_type": "stream",
     "text": [
      "[2, 12, 34, 56, 10]\n"
     ]
    }
   ],
   "source": [
    "a=[2,3,12,34,1,89,56,7,9,10]\n",
    "\n",
    "def even(a):\n",
    "    return [i for i in a if i%2==0]\n",
    "print(even(a))"
   ]
  },
  {
   "cell_type": "markdown",
   "metadata": {
    "id": "KkRJWytRG-G9"
   },
   "source": [
    "# 17) WAP to find tuples which have all elements divisible by K from a list of tuples."
   ]
  },
  {
   "cell_type": "code",
   "execution_count": 45,
   "metadata": {
    "id": "zxa_T61kG-G_"
   },
   "outputs": [
    {
     "name": "stdout",
     "output_type": "stream",
     "text": [
      "[(2, 4, 6), (36, 6, 24), (56, 49, 21), (4, 5, 6)]\n"
     ]
    }
   ],
   "source": [
    "a=[(2,4,6),(36,6,24),(56,49,21),(4,5,6)]\n",
    "k=int(input(\"Enter k \"))\n",
    "\n",
    "res = [sub for sub in a if all(element % k ==0 for element in sub)]\n",
    "print(res)\n",
    "\n"
   ]
  },
  {
   "cell_type": "markdown",
   "metadata": {
    "id": "w9-ZoaSPG-HA"
   },
   "source": [
    "# 18) WAP to covert tuple into list by adding the given string after every element."
   ]
  },
  {
   "cell_type": "code",
   "execution_count": 2,
   "metadata": {
    "id": "kp_ewiUoG-HB"
   },
   "outputs": [
    {
     "name": "stdout",
     "output_type": "stream",
     "text": [
      "[3, 'pass', 4, 'pass', 5, 'pass', 8, 'pass', 6, 'pass', 9, 'pass', 10, 'pass']\n"
     ]
    }
   ],
   "source": [
    "a=(3,4,5,8,6,9,10)\n",
    "k=input(\"Enter String\")\n",
    "List= [ele for sub in a for ele in (sub,k)]\n",
    "print(List)"
   ]
  },
  {
   "cell_type": "markdown",
   "metadata": {
    "id": "Kb0K15vDG-HB"
   },
   "source": [
    "# 19) WAP to sort python dictionary by key or value."
   ]
  },
  {
   "cell_type": "code",
   "execution_count": 66,
   "metadata": {
    "id": "mPQhWcuvG-HC"
   },
   "outputs": [
    {
     "name": "stdout",
     "output_type": "stream",
     "text": [
      "[('Div', 'A'), ('name', 'abc'), ('std', 5)]\n"
     ]
    }
   ],
   "source": [
    "dict1 = {\"name\":\"abc\",\"std\":5, \"Div\":\"A\"}\n",
    "print(sorted(dict1.items()))"
   ]
  },
  {
   "cell_type": "markdown",
   "metadata": {
    "id": "QQgUF-1iG-HD"
   },
   "source": [
    "# 20) WAP to merge two dictionaries given by user."
   ]
  },
  {
   "cell_type": "code",
   "execution_count": 69,
   "metadata": {
    "id": "6suV-zTuG-HD"
   },
   "outputs": [
    {
     "name": "stdout",
     "output_type": "stream",
     "text": [
      "{'a': 5, 'b': 'hiren', 'c': 'abc@gmail.com', 'd': 43}\n"
     ]
    }
   ],
   "source": [
    "dict1={\"a\":5,\"b\":\"hiren\"}\n",
    "dict2={\"c\":\"abc@gmail.com\",\"d\":43}\n",
    "\n",
    "dict1.update(dict2)\n",
    "print(dict1)"
   ]
  },
  {
   "cell_type": "markdown",
   "metadata": {
    "id": "QQgUF-1iG-HD"
   },
   "source": [
    "# 21) WAP to merge two sets given by user."
   ]
  },
  {
   "cell_type": "code",
   "execution_count": 1,
   "metadata": {
    "id": "6suV-zTuG-HD"
   },
   "outputs": [
    {
     "data": {
      "text/plain": [
       "{1, 2, 3, 4, 5, 6, 7}"
      ]
     },
     "execution_count": 1,
     "metadata": {},
     "output_type": "execute_result"
    }
   ],
   "source": [
    "set1 = {1,2,3,4}\n",
    "set2 = {3,4,5,6,7}\n",
    "\n",
    "set1.union(set2)"
   ]
  },
  {
   "cell_type": "markdown",
   "metadata": {
    "id": "QQgUF-1iG-HD"
   },
   "source": [
    "# 22) WAP to find intersection of two sets given by user. "
   ]
  },
  {
   "cell_type": "code",
   "execution_count": 2,
   "metadata": {
    "id": "6suV-zTuG-HD"
   },
   "outputs": [
    {
     "data": {
      "text/plain": [
       "{3, 4}"
      ]
     },
     "execution_count": 2,
     "metadata": {},
     "output_type": "execute_result"
    }
   ],
   "source": [
    "set1 = {1,2,3,4}\n",
    "set2 = {3,4,5,6,7}\n",
    "\n",
    "set1.intersection(set2)"
   ]
  }
 ],
 "metadata": {
  "colab": {
   "name": "Python (Lab - 03) (List) - Payal Parmar.ipynb",
   "provenance": []
  },
  "kernelspec": {
   "display_name": "Python 3.10.6 64-bit",
   "language": "python",
   "name": "python3"
  },
  "language_info": {
   "codemirror_mode": {
    "name": "ipython",
    "version": 3
   },
   "file_extension": ".py",
   "mimetype": "text/x-python",
   "name": "python",
   "nbconvert_exporter": "python",
   "pygments_lexer": "ipython3",
   "version": "3.10.6"
  },
  "vscode": {
   "interpreter": {
    "hash": "aee8b7b246df8f9039afb4144a1f6fd8d2ca17a180786b69acc140d282b71a49"
   }
  }
 },
 "nbformat": 4,
 "nbformat_minor": 1
}

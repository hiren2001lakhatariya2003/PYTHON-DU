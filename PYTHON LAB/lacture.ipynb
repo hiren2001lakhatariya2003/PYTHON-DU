{
 "cells": [
  {
   "cell_type": "code",
   "execution_count": 19,
   "metadata": {},
   "outputs": [
    {
     "name": "stdout",
     "output_type": "stream",
     "text": [
      "1\n",
      "3\n",
      "5\n",
      "7\n",
      "9\n"
     ]
    }
   ],
   "source": [
    "templist = range (1,10) \n",
    "for i in templist :\n",
    "    if i%2==0 :\n",
    "        pass # when we not write if condition if ()\n",
    "    else :\n",
    "        print(i)\n"
   ]
  },
  {
   "cell_type": "code",
   "execution_count": 17,
   "metadata": {},
   "outputs": [
    {
     "name": "stdout",
     "output_type": "stream",
     "text": [
      "cpi = 6.1\n",
      "cpi = 5.25\n"
     ]
    }
   ],
   "source": [
    "#tupple\n",
    "\n",
    "a=[(3,4.4,8,9),(9,9,2,1)]\n",
    "\n",
    "\n",
    "for i in a :\n",
    "    s1 =i[0]\n",
    "    s2 =i[1]\n",
    "    s3 =i[2]\n",
    "    s4 =i[3]\n",
    "\n",
    "    cpi = (s1 + s2 + s3 + s4)/4\n",
    "    print(\"cpi =\",cpi)"
   ]
  },
  {
   "cell_type": "code",
   "execution_count": 18,
   "metadata": {},
   "outputs": [
    {
     "name": "stdout",
     "output_type": "stream",
     "text": [
      "cpi = 6.1\n",
      "cpi = 5.25\n"
     ]
    }
   ],
   "source": [
    "a=[(3,4.4,8,9),(9,9,2,1)]\n",
    "\n",
    "for s1,s2,s3,s4 in a:  # direct diclare the variable \n",
    "    cpi = (s1 + s2 + s3 + s4)/4\n",
    "    print(\"cpi =\",cpi)"
   ]
  }
 ],
 "metadata": {
  "kernelspec": {
   "display_name": "Python 3.10.6 64-bit",
   "language": "python",
   "name": "python3"
  },
  "language_info": {
   "codemirror_mode": {
    "name": "ipython",
    "version": 3
   },
   "file_extension": ".py",
   "mimetype": "text/x-python",
   "name": "python",
   "nbconvert_exporter": "python",
   "pygments_lexer": "ipython3",
   "version": "3.10.6"
  },
  "orig_nbformat": 4,
  "vscode": {
   "interpreter": {
    "hash": "aee8b7b246df8f9039afb4144a1f6fd8d2ca17a180786b69acc140d282b71a49"
   }
  }
 },
 "nbformat": 4,
 "nbformat_minor": 2
}

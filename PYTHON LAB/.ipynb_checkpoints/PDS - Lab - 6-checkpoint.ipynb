{
 "cells": [
  {
   "cell_type": "markdown",
   "metadata": {
    "id": "5IxH57pmG-GY"
   },
   "source": [
    "\n",
    "___\n",
    "\n",
    "<a href='https://www.darshan.ac.in/'> <img src='https://gtu.darshan.ac.in/Upload/Logo/DIET_Logo.svg' /></a>\n",
    "___\n",
    "<pre>\n",
    "<center><b>Python for Data Science - 3150713</b></center>\n",
    "<center><b>Lab - 6</b></center>    \n",
    "<pre>"
   ]
  },
  {
   "cell_type": "markdown",
   "metadata": {
    "id": "_FHUM-CHG-Gd"
   },
   "source": [
    "# 1.\tWAP to read entire file named abc.txt\n",
    "\n"
   ]
  },
  {
   "cell_type": "code",
   "execution_count": 1,
   "metadata": {
    "id": "ybLtCnveG-Ge",
    "outputId": "092082a0-6010-4ee1-fd15-376801468c73"
   },
   "outputs": [
    {
     "name": "stdout",
     "output_type": "stream",
     "text": [
      "hello\n",
      "how are you?\n",
      "good morning..\n",
      "Have a nice day!\n",
      "good luck \n",
      "enjoy.\n",
      "health is wealth..\n"
     ]
    }
   ],
   "source": [
    "f = open(\"abc.txt\")\n",
    "data = f.read()\n",
    "print(data)\n",
    "f.close()"
   ]
  },
  {
   "cell_type": "markdown",
   "metadata": {},
   "source": [
    "# 2.\tWAP to read first 5 lines from the file named abc.txt"
   ]
  },
  {
   "cell_type": "code",
   "execution_count": 2,
   "metadata": {},
   "outputs": [
    {
     "name": "stdout",
     "output_type": "stream",
     "text": [
      "hello\n",
      "\n",
      "how are you?\n",
      "\n",
      "good morning..\n",
      "\n",
      "Have a nice day!\n",
      "\n",
      "good luck \n",
      "\n"
     ]
    }
   ],
   "source": [
    "f = open(\"abc.txt\")\n",
    "data = f.readlines()\n",
    "count_line=0\n",
    "for l in data:\n",
    "    count_line+=1\n",
    "    if count_line<=5:\n",
    "        print(l)\n",
    "    else:\n",
    "        break\n",
    "f.close()"
   ]
  },
  {
   "cell_type": "markdown",
   "metadata": {},
   "source": [
    "# 3.\tWAP to read file line by line and store lines as a List.\n"
   ]
  },
  {
   "cell_type": "code",
   "execution_count": 3,
   "metadata": {},
   "outputs": [
    {
     "name": "stdout",
     "output_type": "stream",
     "text": [
      "['hello\\n', 'how are you?\\n', 'good morning..\\n', 'Have a nice day!\\n', 'good luck \\n', 'enjoy.\\n', 'health is wealth..']\n"
     ]
    }
   ],
   "source": [
    "f = open(\"abc.txt\")\n",
    "data = f.readlines()\n",
    "myArray=[]\n",
    "\n",
    "for l in data:\n",
    "    myArray.append(l)\n",
    "\n",
    "print(myArray)\n",
    "f.close()"
   ]
  },
  {
   "cell_type": "markdown",
   "metadata": {},
   "source": [
    "# 4.\tWAP to find the longest word in a file named abc.txt"
   ]
  },
  {
   "cell_type": "code",
   "execution_count": 4,
   "metadata": {},
   "outputs": [
    {
     "name": "stdout",
     "output_type": "stream",
     "text": [
      "morning..\n",
      "\n"
     ]
    }
   ],
   "source": [
    "f = open(\"abc.txt\")\n",
    "line = f.readlines()\n",
    "longestWord=\"\"\n",
    "mxln = 0\n",
    "for l in line:\n",
    "    words = l.split(\" \")\n",
    "    for word in words:\n",
    "        x = len(word)\n",
    "        if x>mxln:\n",
    "            mxln = len(word)\n",
    "            longestWord = word\n",
    "print(longestWord)"
   ]
  },
  {
   "cell_type": "markdown",
   "metadata": {},
   "source": [
    "# 5.\tWAP to count lines, word, and characters within a text file."
   ]
  },
  {
   "cell_type": "code",
   "execution_count": 5,
   "metadata": {},
   "outputs": [
    {
     "name": "stdout",
     "output_type": "stream",
     "text": [
      "TotalLines :  7 \n",
      "TotalWords :  17 \n",
      "TotalCharacters :  77\n"
     ]
    }
   ],
   "source": [
    "f = open(\"abc.txt\")\n",
    "data = f.readlines()\n",
    "totallines=0\n",
    "totalwords=0\n",
    "totalchars=0\n",
    "\n",
    "for d in data:\n",
    "        totallines+=1\n",
    "        words=d.split(\" \")\n",
    "        for word in words:\n",
    "            totalwords+=1;\n",
    "            totalchars+=len(word)\n",
    "print(\"TotalLines : \",totallines,\"\\nTotalWords : \",totalwords,\"\\nTotalCharacters : \",totalchars)\n",
    "            "
   ]
  },
  {
   "cell_type": "markdown",
   "metadata": {},
   "source": [
    "# 6.\tWrite an application that reads a file and counts the number of occurrences of word."
   ]
  },
  {
   "cell_type": "code",
   "execution_count": 5,
   "metadata": {},
   "outputs": [
    {
     "name": "stdout",
     "output_type": "stream",
     "text": [
      "hello\n",
      " = 1\n",
      "how = 1\n",
      "are = 0\n",
      "you?\n",
      " = 0\n",
      "good = 1\n",
      "morning..\n",
      " = 0\n",
      "Have = 1\n",
      "a = 0\n",
      "nice = 0\n",
      "day!\n",
      " = 0\n",
      "good = 1\n",
      "luck = 0\n",
      "\n",
      " = 0\n",
      "enjoy.\n",
      " = 1\n",
      "health = 1\n",
      "is = 0\n",
      "wealth.. = 0\n"
     ]
    }
   ],
   "source": [
    "f = open(\"abc.txt\")\n",
    "data = f.readlines()\n",
    "\n",
    "for l in data:\n",
    "    words = l.split(\" \")\n",
    "    for word in words:\n",
    "        count = 0\n",
    "        temp = word\n",
    "        for word in words:\n",
    "            if temp == word:\n",
    "                count+=1\n",
    "            print(temp,\"=\",count)\n",
    "            break\n",
    "            "
   ]
  },
  {
   "cell_type": "markdown",
   "metadata": {},
   "source": [
    "# 7.\tWAP to copy content of abc.txt to xyz.txt"
   ]
  },
  {
   "cell_type": "code",
   "execution_count": 27,
   "metadata": {},
   "outputs": [],
   "source": [
    "with open(\"abc.txt\") as f:\n",
    "    with open(\"bcd.txt\",\"w\") as f1:\n",
    "        for line in f:\n",
    "            f1.write(line)"
   ]
  },
  {
   "cell_type": "markdown",
   "metadata": {},
   "source": [
    "# 8.\tWAP to append next 50 prime numbers to a file named primenumbers.txt)"
   ]
  },
  {
   "cell_type": "code",
   "execution_count": 1,
   "metadata": {},
   "outputs": [],
   "source": [
    "prime = []\n",
    "count = 1\n",
    "n = 2\n",
    "while count <= 50:\n",
    "  flag = 0\n",
    "  for i in range(2,n):\n",
    "    if n%i == 0:\n",
    "      flag = 1\n",
    "      break\n",
    "  if flag == 0:\n",
    "    prime.append(n)\n",
    "    count = count + 1\n",
    "  n = n + 1\n",
    "with open('prime.txt', 'w') as f:\n",
    "  for i in prime:\n",
    "    f.write(\"{0}\\n\".format(i))"
   ]
  },
  {
   "cell_type": "code",
   "execution_count": 4,
   "metadata": {},
   "outputs": [
    {
     "name": "stdout",
     "output_type": "stream",
     "text": [
      "2\n",
      "3\n",
      "5\n",
      "7\n",
      "11\n",
      "13\n",
      "17\n",
      "19\n",
      "23\n",
      "29\n",
      "31\n",
      "37\n",
      "41\n",
      "43\n",
      "47\n",
      "53\n",
      "59\n",
      "61\n",
      "67\n",
      "71\n",
      "73\n",
      "79\n",
      "83\n",
      "89\n",
      "97\n",
      "101\n",
      "103\n",
      "107\n",
      "109\n",
      "113\n",
      "127\n",
      "131\n",
      "137\n",
      "139\n",
      "149\n",
      "151\n",
      "157\n",
      "163\n",
      "167\n",
      "173\n",
      "179\n",
      "181\n",
      "191\n",
      "193\n",
      "197\n",
      "199\n",
      "211\n",
      "223\n",
      "227\n",
      "229\n",
      "\n"
     ]
    }
   ],
   "source": [
    "f = open(\"prime.txt\")\n",
    "data  = f.read()\n",
    "print(data)"
   ]
  }
 ],
 "metadata": {
  "colab": {
   "name": "Python (Lab - 03) (List) - Payal Parmar.ipynb",
   "provenance": []
  },
  "kernelspec": {
   "display_name": "Python 3 (ipykernel)",
   "language": "python",
   "name": "python3"
  },
  "language_info": {
   "codemirror_mode": {
    "name": "ipython",
    "version": 3
   },
   "file_extension": ".py",
   "mimetype": "text/x-python",
   "name": "python",
   "nbconvert_exporter": "python",
   "pygments_lexer": "ipython3",
   "version": "3.9.12"
  }
 },
 "nbformat": 4,
 "nbformat_minor": 1
}

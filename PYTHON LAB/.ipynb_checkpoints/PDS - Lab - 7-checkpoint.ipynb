{
 "cells": [
  {
   "cell_type": "markdown",
   "metadata": {
    "id": "viZWGjpxhKLy"
   },
   "source": [
    "\n",
    "___\n",
    "\n",
    "<a href='https://www.darshan.ac.in/'> <img src='https://gtu.darshan.ac.in/Upload/Logo/DIET_Logo.svg' /></a>\n",
    "___\n",
    "<pre>\n",
    "<center><b>Python for Data Science - 3150713</b></center>\n",
    "<center><b>Lab - 7</b></center>    \n",
    "<pre>"
   ]
  },
  {
   "cell_type": "markdown",
   "metadata": {
    "id": "OTl99xY_hKL0"
   },
   "source": [
    "# NumPy Exercises \n",
    "\n",
    "Now that we've learned about NumPy let's test your knowledge. We'll start off with a few simple tasks, and then you'll be asked some more complicated questions."
   ]
  },
  {
   "cell_type": "markdown",
   "metadata": {
    "id": "fceBoOLLhKL1"
   },
   "source": [
    "#### import numpy as np"
   ]
  },
  {
   "cell_type": "code",
   "execution_count": 1,
   "metadata": {
    "id": "SLXsNUwChKL1"
   },
   "outputs": [],
   "source": [
    "import numpy as np\n"
   ]
  },
  {
   "cell_type": "markdown",
   "metadata": {
    "id": "y-7thQlKhKL1"
   },
   "source": [
    "#### Create an array of 10 zeros "
   ]
  },
  {
   "cell_type": "code",
   "execution_count": 2,
   "metadata": {
    "colab": {
     "base_uri": "https://localhost:8080/"
    },
    "executionInfo": {
     "elapsed": 408,
     "status": "ok",
     "timestamp": 1662949815972,
     "user": {
      "displayName": "Jeet Sorathiya",
      "userId": "07422743643071495669"
     },
     "user_tz": -330
    },
    "id": "Mf4EH73BhKL2",
    "outputId": "b84d0247-8ada-40f7-bb6f-01d87961a504"
   },
   "outputs": [
    {
     "name": "stdout",
     "output_type": "stream",
     "text": [
      "[0. 0. 0. 0. 0. 0. 0. 0. 0. 0.]\n"
     ]
    }
   ],
   "source": [
    "import numpy as np\n",
    "a = np.zeros(10)\n",
    "print(a)"
   ]
  },
  {
   "cell_type": "markdown",
   "metadata": {
    "id": "8iCIuEQghKL2"
   },
   "source": [
    "Output should be = array([0., 0., 0., 0., 0., 0., 0., 0., 0., 0.])"
   ]
  },
  {
   "cell_type": "markdown",
   "metadata": {
    "id": "U5vzJ8nshKL2"
   },
   "source": [
    "#### Create an array of 10 ones"
   ]
  },
  {
   "cell_type": "code",
   "execution_count": 3,
   "metadata": {
    "colab": {
     "base_uri": "https://localhost:8080/"
    },
    "executionInfo": {
     "elapsed": 455,
     "status": "ok",
     "timestamp": 1662949930710,
     "user": {
      "displayName": "Jeet Sorathiya",
      "userId": "07422743643071495669"
     },
     "user_tz": -330
    },
    "id": "kdwFSVGyhKL3",
    "outputId": "a7ec2fba-48ff-4b89-c1cb-0043626b9ae2"
   },
   "outputs": [
    {
     "name": "stdout",
     "output_type": "stream",
     "text": [
      "[1. 1. 1. 1. 1. 1. 1. 1. 1. 1.]\n"
     ]
    }
   ],
   "source": [
    "import numpy as np\n",
    "a = np.ones(10)\n",
    "print(a)"
   ]
  },
  {
   "cell_type": "markdown",
   "metadata": {
    "id": "M0La6tl3hKL3"
   },
   "source": [
    "Output should be = array([1., 1., 1., 1., 1., 1., 1., 1., 1., 1.])"
   ]
  },
  {
   "cell_type": "markdown",
   "metadata": {
    "id": "nox1xt2HhKL3"
   },
   "source": [
    "#### Create an array of 10 fives"
   ]
  },
  {
   "cell_type": "code",
   "execution_count": 4,
   "metadata": {
    "colab": {
     "base_uri": "https://localhost:8080/"
    },
    "executionInfo": {
     "elapsed": 8,
     "status": "ok",
     "timestamp": 1662950036359,
     "user": {
      "displayName": "Jeet Sorathiya",
      "userId": "07422743643071495669"
     },
     "user_tz": -330
    },
    "id": "Pv_4biPrhKL4",
    "outputId": "853c8eb8-60f6-489f-8c80-c6c9def6d21d"
   },
   "outputs": [
    {
     "name": "stdout",
     "output_type": "stream",
     "text": [
      "[5. 5. 5. 5. 5. 5. 5. 5. 5. 5.]\n"
     ]
    }
   ],
   "source": [
    "import numpy as np\n",
    "a = np.ones(10)\n",
    "b = a*5\n",
    "print(b)"
   ]
  },
  {
   "cell_type": "markdown",
   "metadata": {
    "id": "IIWcnaWXhKL4"
   },
   "source": [
    "Output should be = array([5., 5., 5., 5., 5., 5., 5., 5., 5., 5.])"
   ]
  },
  {
   "cell_type": "markdown",
   "metadata": {
    "id": "gn30hEyahKL4"
   },
   "source": [
    "#### Create an array of the integers from 10 to 50"
   ]
  },
  {
   "cell_type": "code",
   "execution_count": 5,
   "metadata": {
    "colab": {
     "base_uri": "https://localhost:8080/"
    },
    "executionInfo": {
     "elapsed": 5,
     "status": "ok",
     "timestamp": 1662950064384,
     "user": {
      "displayName": "Jeet Sorathiya",
      "userId": "07422743643071495669"
     },
     "user_tz": -330
    },
    "id": "ednh8epHhKL4",
    "outputId": "52524aa0-6603-4b86-c66c-9d399ad68b23"
   },
   "outputs": [
    {
     "name": "stdout",
     "output_type": "stream",
     "text": [
      "[10 11 12 13 14 15 16 17 18 19 20 21 22 23 24 25 26 27 28 29 30 31 32 33\n",
      " 34 35 36 37 38 39 40 41 42 43 44 45 46 47 48 49 50]\n"
     ]
    }
   ],
   "source": [
    "import numpy as np\n",
    "a = np.arange(10,51,1)\n",
    "print(a)"
   ]
  },
  {
   "cell_type": "markdown",
   "metadata": {
    "id": "XyWpQoSJhKL5"
   },
   "source": [
    "Output should be = array([10, 11, 12, 13, 14, 15, 16, 17, 18, 19, 20, 21, 22, 23, 24, 25, 26,\n",
    "       27, 28, 29, 30, 31, 32, 33, 34, 35, 36, 37, 38, 39, 40, 41, 42, 43,\n",
    "       44, 45, 46, 47, 48, 49, 50])"
   ]
  },
  {
   "cell_type": "markdown",
   "metadata": {
    "id": "ULJ38lFohKL5"
   },
   "source": [
    "#### Create an array of all the even integers from 10 to 50"
   ]
  },
  {
   "cell_type": "code",
   "execution_count": 6,
   "metadata": {
    "colab": {
     "base_uri": "https://localhost:8080/"
    },
    "executionInfo": {
     "elapsed": 442,
     "status": "ok",
     "timestamp": 1662950106030,
     "user": {
      "displayName": "Jeet Sorathiya",
      "userId": "07422743643071495669"
     },
     "user_tz": -330
    },
    "id": "HGh6f6eehKL5",
    "outputId": "8587b853-6c23-4009-ad8d-d3b4bd187441"
   },
   "outputs": [
    {
     "name": "stdout",
     "output_type": "stream",
     "text": [
      "[10 12 14 16 18 20 22 24 26 28 30 32 34 36 38 40 42 44 46 48 50]\n"
     ]
    }
   ],
   "source": [
    "import numpy as np\n",
    "a = np.arange(10,51,2)\n",
    "print(a)"
   ]
  },
  {
   "cell_type": "markdown",
   "metadata": {
    "id": "O13AzP7zhKL5"
   },
   "source": [
    "Output should be = array([10, 12, 14, 16, 18, 20, 22, 24, 26, 28, 30, 32, 34, 36, 38, 40, 42,\n",
    "       44, 46, 48, 50])"
   ]
  },
  {
   "cell_type": "markdown",
   "metadata": {
    "id": "2SgS7d9UhKL5"
   },
   "source": [
    "#### Create a 3x3 matrix with values ranging from 0 to 8"
   ]
  },
  {
   "cell_type": "code",
   "execution_count": 7,
   "metadata": {
    "colab": {
     "base_uri": "https://localhost:8080/"
    },
    "executionInfo": {
     "elapsed": 8,
     "status": "ok",
     "timestamp": 1662950366712,
     "user": {
      "displayName": "Jeet Sorathiya",
      "userId": "07422743643071495669"
     },
     "user_tz": -330
    },
    "id": "pIWm3j7zhKL6",
    "outputId": "08d391f2-29fa-42bc-aa97-d69f46ddc394"
   },
   "outputs": [
    {
     "name": "stdout",
     "output_type": "stream",
     "text": [
      "[[0 1 2]\n",
      " [3 4 5]\n",
      " [6 7 8]]\n"
     ]
    }
   ],
   "source": [
    "import numpy as np\n",
    "a = np.arange(0,9,1)\n",
    "b = a.reshape(3,3)\n",
    "print(b)"
   ]
  },
  {
   "cell_type": "markdown",
   "metadata": {
    "id": "yM6JDmaKhKL6"
   },
   "source": [
    "Output should be = <br/>\n",
    "<pre>array([[0, 1, 2],\n",
    "       [3, 4, 5],\n",
    "       [6, 7, 8]])</pre>"
   ]
  },
  {
   "cell_type": "markdown",
   "metadata": {
    "id": "zO7ie64VhKL6"
   },
   "source": [
    "#### Create a 3x3 identity matrix"
   ]
  },
  {
   "cell_type": "code",
   "execution_count": 8,
   "metadata": {
    "colab": {
     "base_uri": "https://localhost:8080/"
    },
    "executionInfo": {
     "elapsed": 419,
     "status": "ok",
     "timestamp": 1662950404544,
     "user": {
      "displayName": "Jeet Sorathiya",
      "userId": "07422743643071495669"
     },
     "user_tz": -330
    },
    "id": "YqFwAQzqhKL6",
    "outputId": "00ca2c74-d94a-46df-8b4a-e752f7af0583"
   },
   "outputs": [
    {
     "name": "stdout",
     "output_type": "stream",
     "text": [
      "[[1. 0. 0.]\n",
      " [0. 1. 0.]\n",
      " [0. 0. 1.]]\n"
     ]
    }
   ],
   "source": [
    "import numpy as np\n",
    "a = np.eye(3)\n",
    "print(a)"
   ]
  },
  {
   "cell_type": "markdown",
   "metadata": {
    "id": "JclmSY7dhKL6"
   },
   "source": [
    "Output should be = <br/>\n",
    "<pre>array([[1., 0., 0.],\n",
    "       [0., 1., 0.],\n",
    "       [0., 0., 1.]])</pre>"
   ]
  },
  {
   "cell_type": "markdown",
   "metadata": {
    "id": "hTLLx8VEhKL6"
   },
   "source": [
    "#### Use NumPy to generate a random number between 0 and 1"
   ]
  },
  {
   "cell_type": "code",
   "execution_count": 9,
   "metadata": {
    "colab": {
     "base_uri": "https://localhost:8080/"
    },
    "executionInfo": {
     "elapsed": 6,
     "status": "ok",
     "timestamp": 1662950669123,
     "user": {
      "displayName": "Jeet Sorathiya",
      "userId": "07422743643071495669"
     },
     "user_tz": -330
    },
    "id": "UxzjhAWMhKL6",
    "outputId": "5f72289e-5af9-496b-f340-f4fdd57367ad"
   },
   "outputs": [
    {
     "name": "stdout",
     "output_type": "stream",
     "text": [
      "0.05066931236642547\n"
     ]
    }
   ],
   "source": [
    "import numpy as np\n",
    "a = np.random.rand()\n",
    "print(a)"
   ]
  },
  {
   "cell_type": "markdown",
   "metadata": {
    "id": "_wX1f65NhKL6"
   },
   "source": [
    "#### Use NumPy to generate an array of 25 random numbers sampled from a \n",
    "\n",
    "*   List item\n",
    "*   List item\n",
    "\n",
    "standard normal distribution"
   ]
  },
  {
   "cell_type": "code",
   "execution_count": 10,
   "metadata": {
    "colab": {
     "base_uri": "https://localhost:8080/"
    },
    "executionInfo": {
     "elapsed": 407,
     "status": "ok",
     "timestamp": 1662951141658,
     "user": {
      "displayName": "Jeet Sorathiya",
      "userId": "07422743643071495669"
     },
     "user_tz": -330
    },
    "id": "4moKpd21hKL7",
    "outputId": "46b75930-9760-431a-b45e-8ac46d2623d0"
   },
   "outputs": [
    {
     "name": "stdout",
     "output_type": "stream",
     "text": [
      "[0.20523609 0.04729554 0.62936161 0.07276722 0.72527664 0.53145106\n",
      " 0.69671381 0.05191122 0.81928431 0.74534047 0.81362181 0.28339271\n",
      " 0.77774922 0.63782887 0.34650244 0.06061174 0.78776274 0.13753863\n",
      " 0.30930878 0.23523731 0.53966791 0.24875357 0.68422303 0.70483478\n",
      " 0.14768655]\n"
     ]
    }
   ],
   "source": [
    "import numpy as np\n",
    "a = np.random.rand(25)\n",
    "print(a)"
   ]
  },
  {
   "cell_type": "markdown",
   "metadata": {
    "id": "YeirPMwahKL7"
   },
   "source": [
    "#### Create the following matrix:"
   ]
  },
  {
   "cell_type": "code",
   "execution_count": 11,
   "metadata": {
    "colab": {
     "base_uri": "https://localhost:8080/"
    },
    "executionInfo": {
     "elapsed": 702,
     "status": "ok",
     "timestamp": 1662951491763,
     "user": {
      "displayName": "Jeet Sorathiya",
      "userId": "07422743643071495669"
     },
     "user_tz": -330
    },
    "id": "mm86X6F-hKL7",
    "outputId": "c05cb362-0820-43c4-ee75-636eec254cce"
   },
   "outputs": [
    {
     "name": "stdout",
     "output_type": "stream",
     "text": [
      "[[0.01 0.02 0.03 0.04 0.05 0.06 0.07 0.08 0.09 0.1 ]\n",
      " [0.11 0.12 0.13 0.14 0.15 0.16 0.17 0.18 0.19 0.2 ]\n",
      " [0.21 0.22 0.23 0.24 0.25 0.26 0.27 0.28 0.29 0.3 ]\n",
      " [0.31 0.32 0.33 0.34 0.35 0.36 0.37 0.38 0.39 0.4 ]\n",
      " [0.41 0.42 0.43 0.44 0.45 0.46 0.47 0.48 0.49 0.5 ]\n",
      " [0.51 0.52 0.53 0.54 0.55 0.56 0.57 0.58 0.59 0.6 ]\n",
      " [0.61 0.62 0.63 0.64 0.65 0.66 0.67 0.68 0.69 0.7 ]\n",
      " [0.71 0.72 0.73 0.74 0.75 0.76 0.77 0.78 0.79 0.8 ]\n",
      " [0.81 0.82 0.83 0.84 0.85 0.86 0.87 0.88 0.89 0.9 ]\n",
      " [0.91 0.92 0.93 0.94 0.95 0.96 0.97 0.98 0.99 1.  ]]\n"
     ]
    }
   ],
   "source": [
    "\n",
    "import numpy as np\n",
    "re1 = np.linspace(0.01,1,100)\n",
    "re2 = re1.reshape(10,10)\n",
    "print(re2)"
   ]
  },
  {
   "cell_type": "markdown",
   "metadata": {
    "id": "LP1XAke7hKL7"
   },
   "source": [
    "Output should be = <br/>[[0.01, 0.02, 0.03, 0.04, 0.05, 0.06, 0.07, 0.08, 0.09, 0.1 ],<br/>\n",
    "       [0.11, 0.12, 0.13, 0.14, 0.15, 0.16, 0.17, 0.18, 0.19, 0.2 ],<br/>\n",
    "       [0.21, 0.22, 0.23, 0.24, 0.25, 0.26, 0.27, 0.28, 0.29, 0.3 ],<br/>\n",
    "       [0.31, 0.32, 0.33, 0.34, 0.35, 0.36, 0.37, 0.38, 0.39, 0.4 ],<br/>\n",
    "       [0.41, 0.42, 0.43, 0.44, 0.45, 0.46, 0.47, 0.48, 0.49, 0.5 ],<br/>\n",
    "       [0.51, 0.52, 0.53, 0.54, 0.55, 0.56, 0.57, 0.58, 0.59, 0.6 ],<br/>\n",
    "       [0.61, 0.62, 0.63, 0.64, 0.65, 0.66, 0.67, 0.68, 0.69, 0.7 ],<br/>\n",
    "       [0.71, 0.72, 0.73, 0.74, 0.75, 0.76, 0.77, 0.78, 0.79, 0.8 ],<br/>\n",
    "       [0.81, 0.82, 0.83, 0.84, 0.85, 0.86, 0.87, 0.88, 0.89, 0.9 ],<br/>\n",
    "       [0.91, 0.92, 0.93, 0.94, 0.95, 0.96, 0.97, 0.98, 0.99, 1.  ]]"
   ]
  },
  {
   "cell_type": "markdown",
   "metadata": {
    "id": "Fr8n84mKhKL7"
   },
   "source": [
    "#### Create an array of 20 linearly spaced points between 0 and 1:"
   ]
  },
  {
   "cell_type": "code",
   "execution_count": 12,
   "metadata": {
    "colab": {
     "base_uri": "https://localhost:8080/"
    },
    "executionInfo": {
     "elapsed": 462,
     "status": "ok",
     "timestamp": 1662951744204,
     "user": {
      "displayName": "Jeet Sorathiya",
      "userId": "07422743643071495669"
     },
     "user_tz": -330
    },
    "id": "l56y4eLBhKL7",
    "outputId": "31823e1c-bde6-4541-95bb-e835e9e09932"
   },
   "outputs": [
    {
     "name": "stdout",
     "output_type": "stream",
     "text": [
      "[0.         0.05263158 0.10526316 0.15789474 0.21052632 0.26315789\n",
      " 0.31578947 0.36842105 0.42105263 0.47368421 0.52631579 0.57894737\n",
      " 0.63157895 0.68421053 0.73684211 0.78947368 0.84210526 0.89473684\n",
      " 0.94736842 1.        ]\n"
     ]
    }
   ],
   "source": [
    "import numpy as np\n",
    "re1 = np.linspace(0,1,20,100)\n",
    "print(re1)"
   ]
  },
  {
   "cell_type": "markdown",
   "metadata": {
    "id": "d5yvXNf9hKL7"
   },
   "source": [
    "array([0.        , 0.05263158, 0.10526316, 0.15789474, 0.21052632,\n",
    "       0.26315789, 0.31578947, 0.36842105, 0.42105263, 0.47368421,\n",
    "       0.52631579, 0.57894737, 0.63157895, 0.68421053, 0.73684211,\n",
    "       0.78947368, 0.84210526, 0.89473684, 0.94736842, 1.        ])"
   ]
  },
  {
   "cell_type": "markdown",
   "metadata": {
    "id": "v4zEfT8zhKL8"
   },
   "source": [
    "## Numpy Indexing and Slicing\n"
   ]
  },
  {
   "cell_type": "code",
   "execution_count": 13,
   "metadata": {
    "colab": {
     "base_uri": "https://localhost:8080/"
    },
    "executionInfo": {
     "elapsed": 5,
     "status": "ok",
     "timestamp": 1662953171972,
     "user": {
      "displayName": "Jeet Sorathiya",
      "userId": "07422743643071495669"
     },
     "user_tz": -330
    },
    "id": "y_LYE4DwhKL8",
    "outputId": "895da6e1-0384-4f86-dd19-4b99694979d0"
   },
   "outputs": [
    {
     "name": "stdout",
     "output_type": "stream",
     "text": [
      "[1 2 3 4 5]\n",
      "[ 6  7  8  9 10]\n",
      "[11 12 13 14 15]\n",
      "[16 17 18 19 20]\n",
      "[21 22 23 24 25]\n"
     ]
    }
   ],
   "source": [
    "import numpy as np\n",
    "a = np.arange(1,26,1)\n",
    "b = a.reshape(5,5)\n",
    "print(a[:5])\n",
    "print(a[5:10])\n",
    "print(a[10:15])\n",
    "print(a[15:20])\n",
    "print(a[20:25])\n"
   ]
  },
  {
   "cell_type": "markdown",
   "metadata": {
    "id": "oO2w3c1ZhKL8"
   },
   "source": [
    "Output should be = <br/>\n",
    "<pre>array([[ 1,  2,  3,  4,  5],\n",
    "       [ 6,  7,  8,  9, 10],\n",
    "       [11, 12, 13, 14, 15],\n",
    "       [16, 17, 18, 19, 20],\n",
    "       [21, 22, 23, 24, 25]])</pre>"
   ]
  },
  {
   "cell_type": "code",
   "execution_count": 14,
   "metadata": {
    "colab": {
     "base_uri": "https://localhost:8080/"
    },
    "executionInfo": {
     "elapsed": 398,
     "status": "ok",
     "timestamp": 1662953134568,
     "user": {
      "displayName": "Jeet Sorathiya",
      "userId": "07422743643071495669"
     },
     "user_tz": -330
    },
    "id": "Z8ZFJ-gxhKL8",
    "outputId": "a38eb6f8-93dc-4b03-9c13-0c79ce055c25"
   },
   "outputs": [
    {
     "name": "stdout",
     "output_type": "stream",
     "text": [
      "[[12 13 14 15]\n",
      " [17 18 19 20]\n",
      " [22 23 24 25]]\n"
     ]
    }
   ],
   "source": [
    "print(b[2:5,1:5])"
   ]
  },
  {
   "cell_type": "markdown",
   "metadata": {
    "id": "lXT1EXi7hKL8"
   },
   "source": [
    "Output should be = \n",
    "<pre>array([[12, 13, 14, 15],\n",
    "       [17, 18, 19, 20],\n",
    "       [22, 23, 24, 25]])</pre>"
   ]
  },
  {
   "cell_type": "code",
   "execution_count": 15,
   "metadata": {
    "colab": {
     "base_uri": "https://localhost:8080/"
    },
    "executionInfo": {
     "elapsed": 397,
     "status": "ok",
     "timestamp": 1662953344575,
     "user": {
      "displayName": "Jeet Sorathiya",
      "userId": "07422743643071495669"
     },
     "user_tz": -330
    },
    "id": "gQqjfV7mhKL8",
    "outputId": "c44924d4-bf8a-448a-9503-dbebe6fb1317"
   },
   "outputs": [
    {
     "name": "stdout",
     "output_type": "stream",
     "text": [
      "[20]\n"
     ]
    }
   ],
   "source": [
    "print(a[19:20])"
   ]
  },
  {
   "cell_type": "markdown",
   "metadata": {
    "id": "LTsgSNbNhKL8"
   },
   "source": [
    "Output should be = 20 (element at specific index)"
   ]
  },
  {
   "cell_type": "code",
   "execution_count": 16,
   "metadata": {
    "colab": {
     "base_uri": "https://localhost:8080/"
    },
    "executionInfo": {
     "elapsed": 410,
     "status": "ok",
     "timestamp": 1662953400434,
     "user": {
      "displayName": "Jeet Sorathiya",
      "userId": "07422743643071495669"
     },
     "user_tz": -330
    },
    "id": "fCOSi24DhKL8",
    "outputId": "8190a582-cb51-47a8-d375-be803c3edb71"
   },
   "outputs": [
    {
     "name": "stdout",
     "output_type": "stream",
     "text": [
      "[[ 2]\n",
      " [ 7]\n",
      " [12]]\n"
     ]
    }
   ],
   "source": [
    "print(b[0:3,1:2])"
   ]
  },
  {
   "cell_type": "markdown",
   "metadata": {
    "id": "XNfGP-e_hKL8"
   },
   "source": [
    "Output should be = <br/>\n",
    "<pre>array([[ 2],\n",
    "       [ 7],\n",
    "       [12]])</pre>"
   ]
  },
  {
   "cell_type": "code",
   "execution_count": 17,
   "metadata": {
    "colab": {
     "base_uri": "https://localhost:8080/"
    },
    "executionInfo": {
     "elapsed": 403,
     "status": "ok",
     "timestamp": 1662953464543,
     "user": {
      "displayName": "Jeet Sorathiya",
      "userId": "07422743643071495669"
     },
     "user_tz": -330
    },
    "id": "uUkB4YG5hKL9",
    "outputId": "5875bfdc-5169-41e5-cf93-355b1e81746e"
   },
   "outputs": [
    {
     "name": "stdout",
     "output_type": "stream",
     "text": [
      "[[21 22 23 24 25]]\n"
     ]
    }
   ],
   "source": [
    "print(b[4:5,0:5])"
   ]
  },
  {
   "cell_type": "markdown",
   "metadata": {
    "id": "naxTDcsShKL9"
   },
   "source": [
    "Output should be = array([21, 22, 23, 24, 25])"
   ]
  },
  {
   "cell_type": "code",
   "execution_count": 18,
   "metadata": {
    "colab": {
     "base_uri": "https://localhost:8080/"
    },
    "executionInfo": {
     "elapsed": 485,
     "status": "ok",
     "timestamp": 1662953492762,
     "user": {
      "displayName": "Jeet Sorathiya",
      "userId": "07422743643071495669"
     },
     "user_tz": -330
    },
    "id": "sjSn5rxZhKL9",
    "outputId": "9419935f-0310-4ea4-d13e-59fd5e03a718"
   },
   "outputs": [
    {
     "name": "stdout",
     "output_type": "stream",
     "text": [
      "[[16 17 18 19 20]\n",
      " [21 22 23 24 25]]\n"
     ]
    }
   ],
   "source": [
    "print(b[3:5,0:5])\n"
   ]
  },
  {
   "cell_type": "markdown",
   "metadata": {
    "id": "cMkFneeBhKL9"
   },
   "source": [
    "Output should be =  <br/>\n",
    "<pre>array([[16, 17, 18, 19, 20],\n",
    "       [21, 22, 23, 24, 25]])</pre>"
   ]
  },
  {
   "cell_type": "code",
   "execution_count": 19,
   "metadata": {
    "colab": {
     "base_uri": "https://localhost:8080/"
    },
    "executionInfo": {
     "elapsed": 5,
     "status": "ok",
     "timestamp": 1662954304177,
     "user": {
      "displayName": "Jeet Sorathiya",
      "userId": "07422743643071495669"
     },
     "user_tz": -330
    },
    "id": "bDQ0cqqjhKL9",
    "outputId": "dcd5c443-bce3-4b07-b360-7d42cc4807fc"
   },
   "outputs": [
    {
     "name": "stdout",
     "output_type": "stream",
     "text": [
      "[ 3  6  9 12 18 21 24]\n"
     ]
    }
   ],
   "source": [
    "div3 = b[b%3==0]\n",
    "ans = div3[div3%5!=0]\n",
    "print(ans)"
   ]
  },
  {
   "cell_type": "markdown",
   "metadata": {
    "id": "rdWjmv47hKL9"
   },
   "source": [
    "Print all the number which are divisible by 3 but not by 5<br/>\n",
    "Output should be = [ 3  6  9 12 18 21 24]"
   ]
  },
  {
   "cell_type": "markdown",
   "metadata": {
    "id": "KjzzVX1chKL9"
   },
   "source": [
    "### Now do the following"
   ]
  },
  {
   "cell_type": "markdown",
   "metadata": {
    "id": "B-vOvCJshKL9"
   },
   "source": [
    "#### Get the sum of all the values in mat"
   ]
  },
  {
   "cell_type": "code",
   "execution_count": 20,
   "metadata": {
    "colab": {
     "base_uri": "https://localhost:8080/"
    },
    "executionInfo": {
     "elapsed": 409,
     "status": "ok",
     "timestamp": 1662954699178,
     "user": {
      "displayName": "Jeet Sorathiya",
      "userId": "07422743643071495669"
     },
     "user_tz": -330
    },
    "id": "xs4NpJn5hKL9",
    "outputId": "2bec610f-a383-495d-d32d-9578a8494c86"
   },
   "outputs": [
    {
     "name": "stdout",
     "output_type": "stream",
     "text": [
      "325\n"
     ]
    }
   ],
   "source": [
    "print(b.sum())"
   ]
  },
  {
   "cell_type": "markdown",
   "metadata": {
    "id": "MDy6zxIEhKL9"
   },
   "source": [
    "Output should be = 325"
   ]
  },
  {
   "cell_type": "markdown",
   "metadata": {
    "id": "_6qamygRhKL-"
   },
   "source": [
    "#### Get the standard deviation of the values in mat"
   ]
  },
  {
   "cell_type": "code",
   "execution_count": 21,
   "metadata": {
    "colab": {
     "base_uri": "https://localhost:8080/"
    },
    "executionInfo": {
     "elapsed": 413,
     "status": "ok",
     "timestamp": 1662954740863,
     "user": {
      "displayName": "Jeet Sorathiya",
      "userId": "07422743643071495669"
     },
     "user_tz": -330
    },
    "id": "EgmHmeJvhKL-",
    "outputId": "86aa713e-b8c3-48f2-a61d-9a8b5a2fa839"
   },
   "outputs": [
    {
     "name": "stdout",
     "output_type": "stream",
     "text": [
      "7.211102550927978\n"
     ]
    }
   ],
   "source": [
    "print(b.std())"
   ]
  },
  {
   "cell_type": "markdown",
   "metadata": {
    "id": "f4J3md3KhKL-"
   },
   "source": [
    "Output should be = 7.211102550927978"
   ]
  },
  {
   "cell_type": "markdown",
   "metadata": {
    "id": "u--N26ivhKL-"
   },
   "source": [
    "#### Get the sum of all the columns in mat"
   ]
  },
  {
   "cell_type": "code",
   "execution_count": 22,
   "metadata": {
    "colab": {
     "base_uri": "https://localhost:8080/"
    },
    "executionInfo": {
     "elapsed": 425,
     "status": "ok",
     "timestamp": 1662954788716,
     "user": {
      "displayName": "Jeet Sorathiya",
      "userId": "07422743643071495669"
     },
     "user_tz": -330
    },
    "id": "dchkF82ahKL-",
    "outputId": "0cfbeecf-3cf0-4716-e608-aa2f08adbd29"
   },
   "outputs": [
    {
     "name": "stdout",
     "output_type": "stream",
     "text": [
      "[55 60 65 70 75]\n"
     ]
    }
   ],
   "source": [
    "print(b.sum(axis=0))"
   ]
  },
  {
   "cell_type": "markdown",
   "metadata": {
    "id": "70e_SjL6hKL-"
   },
   "source": [
    "Output should be = array([55, 60, 65, 70, 75])"
   ]
  },
  {
   "cell_type": "markdown",
   "metadata": {
    "id": "Mqq-e8WDhKL-"
   },
   "source": [
    "# Convert image into gray scale"
   ]
  },
  {
   "cell_type": "code",
   "execution_count": 28,
   "metadata": {
    "id": "ES_LxsmShKL-"
   },
   "outputs": [],
   "source": [
    "from skimage import io\n",
    "import matplotlib.pyplot as plt"
   ]
  },
  {
   "cell_type": "code",
   "execution_count": 27,
   "metadata": {},
   "outputs": [],
   "source": [
    "image = io.imread(\"mahadev.jpeg\")"
   ]
  },
  {
   "cell_type": "code",
   "execution_count": 29,
   "metadata": {},
   "outputs": [
    {
     "data": {
      "text/plain": [
       "<matplotlib.image.AxesImage at 0x7fdcd8444fd0>"
      ]
     },
     "execution_count": 29,
     "metadata": {},
     "output_type": "execute_result"
    },
    {
     "data": {
      "image/png": "[encoded data removed]",
      "text/plain": [
       "<Figure size 432x288 with 1 Axes>"
      ]
     },
     "metadata": {
      "needs_background": "light"
     },
     "output_type": "display_data"
    }
   ],
   "source": [
    "plt.imshow(image)"
   ]
  },
  {
   "cell_type": "code",
   "execution_count": 33,
   "metadata": {},
   "outputs": [],
   "source": [
    "r,g,b = image[::,::,0],image[::,::,1],image[::,::,2]"
   ]
  },
  {
   "cell_type": "code",
   "execution_count": 34,
   "metadata": {},
   "outputs": [],
   "source": [
    "gray = 0.2989 * r + 0.5870 * b + 0.1140 * g"
   ]
  },
  {
   "cell_type": "code",
   "execution_count": 35,
   "metadata": {},
   "outputs": [],
   "source": [
    "image = gray"
   ]
  },
  {
   "cell_type": "code",
   "execution_count": 36,
   "metadata": {},
   "outputs": [
    {
     "data": {
      "text/plain": [
       "<matplotlib.image.AxesImage at 0x7fdcd8494550>"
      ]
     },
     "execution_count": 36,
     "metadata": {},
     "output_type": "execute_result"
    },
    {
     "data": {
      "image/png": "[encoded data removed]",
      "text/plain": [
       "<Figure size 432x288 with 1 Axes>"
      ]
     },
     "metadata": {
      "needs_background": "light"
     },
     "output_type": "display_data"
    }
   ],
   "source": [
    "plt.imshow(image,cmap=\"gray\")"
   ]
  },
  {
   "cell_type": "markdown",
   "metadata": {
    "collapsed": true,
    "id": "bozlP9qLhKL-"
   },
   "source": [
    "# Nice work, Keep the spark alive"
   ]
  }
 ],
 "metadata": {
  "colab": {
   "collapsed_sections": [],
   "provenance": []
  },
  "kernelspec": {
   "display_name": "Python 3 (ipykernel)",
   "language": "python",
   "name": "python3"
  },
  "language_info": {
   "codemirror_mode": {
    "name": "ipython",
    "version": 3
   },
   "file_extension": ".py",
   "mimetype": "text/x-python",
   "name": "python",
   "nbconvert_exporter": "python",
   "pygments_lexer": "ipython3",
   "version": "3.9.12"
  }
 },
 "nbformat": 4,
 "nbformat_minor": 1
}

{
 "cells": [
  {
   "cell_type": "markdown",
   "metadata": {
    "id": "5IxH57pmG-GY"
   },
   "source": [
    "\n",
    "___\n",
    "\n",
    "<a href='https://www.darshan.ac.in/'> <img src='https://gtu.darshan.ac.in/Upload/Logo/DIET_Logo.svg' /></a>\n",
    "___\n",
    "<pre>\n",
    "<center><b>Python for Data Science - 3150713</b></center>\n",
    "<center><b>Lab - 5</b></center>    \n",
    "<pre>"
   ]
  },
  {
   "cell_type": "markdown",
   "metadata": {
    "id": "_FHUM-CHG-Gd"
   },
   "source": [
    "# 1)\tScrape the data of Faculty and news data from darshan university website.\n",
    "\n"
   ]
  },
  {
   "cell_type": "code",
   "execution_count": 3,
   "metadata": {
    "id": "ybLtCnveG-Ge",
    "outputId": "092082a0-6010-4ee1-fd15-376801468c73"
   },
   "outputs": [
    {
     "name": "stdout",
     "output_type": "stream",
     "text": [
      "Dr. Gopi Sanghani\n",
      "Dr. Nilesh Gambhava\n",
      "Dr. Pradyumansinh Jadeja\n",
      "Prof. Maulik Trivedi\n",
      "Prof. Dixita Kagathara\n",
      "Prof. Rupesh Vaishnav\n",
      "Prof. Swati Sharma\n",
      "Prof. Arjun Bala\n",
      "Prof. Mayur Padia\n",
      "Prof. Vijay Shekhat\n",
      "Prof. Naimish Vadodariya\n",
      "Prof. UmeshKumar Thoriya\n",
      "Prof. Jayesh Vagadiya\n",
      "Prof. Krunal Vyas\n",
      "Prof. Jay Dhamsaniya\n",
      "Prof. Mehul Bhundiya\n",
      "Prof. Vaseem Ghada\n",
      "Prof. Hemang Chath\n",
      "Prof. Charvin Kothia\n",
      "Prof. Madhuresh Fichadiya\n",
      "Prof. Vishal Kansagara\n",
      "Prof. Dharmik Vasiyani\n",
      "Prof. Shruti Maniar\n",
      "Prof. Bhushan Joshi\n",
      "Prof. Devangi Kotak\n",
      "Prof. Ekta Gevariya\n",
      "Prof. Dolly Doshi\n",
      "Prof. KISHANKUMAR  JOGI\n"
     ]
    }
   ],
   "source": [
    "import requests\n",
    "import bs4\n",
    "data = requests.get(\"https://www.darshan.ac.in/engineering/computer/faculty\")\n",
    "soap = bs4.BeautifulSoup(data.text,'lxml')\n",
    "allfaculty = soap.select(\"body > main > div:nth-child(5) > div > div > div.col-lg-8.col-xl-9.g-font-size-14 > div > div\")\n",
    "\n",
    "for a in allfaculty:\n",
    "    name = a.select(\"h2\")[0].text.strip()\n",
    "    print(name)"
   ]
  },
  {
   "cell_type": "markdown",
   "metadata": {},
   "source": [
    "# 2) Scrape the data of student placement from darshan university website."
   ]
  },
  {
   "cell_type": "code",
   "execution_count": 29,
   "metadata": {},
   "outputs": [
    {
     "name": "stdout",
     "output_type": "stream",
     "text": [
      "KATHANLUNAGARIYA\n",
      "DHAVALBERA\n",
      "SOHAMJOSHI\n",
      "IKSHIKACHOTAI\n",
      "DRASHTIATKOTIYA\n",
      "SWAPNILKATHIRIYA\n",
      "MIRAL SANGANI\n",
      "SURAJKUSHVAHA\n",
      "DRASHTIKANSAGARA\n",
      "SMITPIPARAVA\n",
      "RAJANPANDYA\n",
      "VATSALPATEL\n",
      "MIHIRKHUNT\n",
      "SUNNY MARTHAK\n",
      "JAYGOHEL\n",
      "ABHAYCHOTHANI\n",
      "KHYATIUPADHYAY\n",
      "NIYANTAAAMBALIYA\n",
      "SHREYGANDHI\n",
      "KRUTIBHIMANI\n",
      "SHREYAKANANI\n",
      "RUSHIKKARAVADIYA\n",
      "JENILVASOYA\n",
      "VASUDEDAKIYA\n",
      "SMIT VAGHASIYA\n",
      "MILANBHALODIYA\n",
      "RUSHITA SAVALIYA\n",
      "KASHYAPGINOYA\n",
      "SAVANSORATHIYA\n",
      "DIPALIBENBHUVA\n",
      "GAURAVVALA\n",
      "BHAVYLADANI\n",
      "VANSHILPATEL\n",
      "JEET PATEL\n",
      "SHUBHAMSHAH\n",
      "RADHIKARANGANI\n",
      "BURHANMAKDA\n",
      "OMGAJERA\n",
      "JAHNAVIDARANIA\n",
      "MAYURDHWAJSINHGOHIL\n",
      "BHAVISHAPANJWANI\n",
      "HIMANSHULADVA\n",
      "YASHSAVALIYA\n",
      "DARSHITKUMARGADHIYA\n",
      "KHUSHIDADHANIYA\n",
      "DIVYANSHURANPARIA\n",
      "CHINTANKANSAGARA\n",
      "KENILMENDAPARA\n",
      "NENCYMAKADIA\n",
      "JAYSOLANKI\n",
      "NAYANMEVA\n",
      "TEJMODI\n",
      "HASTIJASANI\n",
      "RAJLAKKAD\n",
      "VIVEKPATORIYA\n",
      "VANDITJOSHI\n",
      "AKASHPAMBHAR\n",
      "DHARMIKPARMAR\n",
      "SEJALGUPTA\n",
      "KEVINMUNGRA\n",
      "HARSHALKHAMBHADIYA\n",
      "HEMALIBEN SANANDIYA\n",
      "PRASADMEHTA\n",
      "PULINDIDHANESHA\n",
      "JAYKUMARMANSURIYA\n",
      "ISHANBHATT\n",
      "HARDIKCHOKSI\n",
      "BURHANBHARMAL\n",
      "DARSHIT SHAH\n",
      "KEVANGHORECHA\n",
      "JANVIBAHENJANI\n",
      "NAKSHIKALOLIA\n",
      "SHREYAOGANJA\n",
      "JAYDEEPMITHANI\n",
      "NILONI SONI\n",
      "ANURAGPINDORIYA\n",
      "DHAVAL GOHEL\n",
      "DHRUVKUNDALIYA\n",
      "RUTULSORATHIYA\n",
      "ISHAVAGHAMSHI\n",
      "DHRUVILDOBARIYA\n",
      "SHIVAMNANDA\n",
      "RINKLEADVANI\n",
      "PRIYAMODI\n",
      "PARTHDAMANI\n",
      "KRUSHNAJOSHI\n",
      "DEVANSHIMAKHECHA\n",
      "SMITKUMARPADSUMBIYA\n",
      "DIVYTHAKRAR\n",
      "VATSALBABARIYA\n",
      "SMITMESHVANIYA\n",
      "URMILPARSANIYA\n",
      "VIRAJBUSA\n",
      "MONIKABENDETROJA\n",
      "ABHAYKAMANI\n",
      "VARUNKESARIA\n",
      "VIVEKPARMAR\n",
      "DEVANGMEHTA\n",
      "KARANDAVDA\n",
      "DIGVIJAYNAKUM\n",
      "JAYDEVCHOTAI\n",
      "HARSHILDHOLAKIYA\n",
      "DARSHAYBHAYANI\n",
      "DEEPKANANI\n",
      "PARTHPANDYA\n",
      "DARSHANKANGAD\n",
      "SAHILVASANI\n",
      "SAKSHIBENPATEL\n",
      "SHYAMKADECHA\n",
      "PRARTHANAKARIYA\n",
      "DHAVALDOBARIYA\n",
      "HARSHALGAMI\n",
      "KALPGORECHA\n",
      "TIRTHANAKANSAGARA\n",
      "KEVINKANZARIYA\n",
      "SAHILKUMARKIKANI\n",
      "DHRUV PARMAR\n",
      "VIVEKPESHAVARIYA\n",
      "JAY PIPALIYA\n",
      "BHARGAVKUMARVACHHANI\n",
      "KEVALSARDHARA\n",
      "CHINTANKUMARSAKHIYA\n",
      "RAHULSAVANI\n",
      "RITIKACHAUHAN\n",
      "RIDDHIPARMAR\n",
      "DHRUVIKANERIYA\n",
      "DHAIVATVAGHELA\n",
      "YASHJANANI\n",
      "DAXITBHUPTANI\n",
      "VISHWASADARIYA\n",
      "SAGARTANK\n",
      "JEELDETROJA\n",
      "VIVEKDUBARIYA\n",
      "PRINCEFALDU\n",
      "RUSHIKDARANIYA\n",
      "ISHITVASOYA\n",
      "KRUNALPATEL\n",
      "YASHRATHOD\n"
     ]
    }
   ],
   "source": [
    "import requests\n",
    "import bs4\n",
    "data = requests.get(\"https://www.darshan.ac.in/placement/list/engineering/computer/2023\")\n",
    "soap=bs4.BeautifulSoup(data.text,\"lxml\")\n",
    "allstudent = soap.select(\"body > main > div:nth-child(5) > div > div > div.col-lg-8.col-xl-9.g-font-size-14.g-mb-30 > div.g-pt-20 > div.row.g-px-4.g-px-5--sm.g-px-5--md > div\")\n",
    "for i in allstudent:\n",
    "    sname = i.select(\"h2\")[0].text.strip()\n",
    "    print(sname)\n",
    "    \n",
    "    "
   ]
  },
  {
   "cell_type": "markdown",
   "metadata": {},
   "source": [
    "# Write a python program to perform database operations on database using mysql and sqlite3.\n",
    "1)\t Display Student table from database.<br>\n",
    "2)\tInsert new recode into student table by user.\n",
    "\n"
   ]
  },
  {
   "cell_type": "code",
   "execution_count": 22,
   "metadata": {},
   "outputs": [
    {
     "ename": "SyntaxError",
     "evalue": "invalid syntax (<ipython-input-22-edc9abfd3c6c>, line 8)",
     "output_type": "error",
     "traceback": [
      "\u001b[0;36m  File \u001b[0;32m\"<ipython-input-22-edc9abfd3c6c>\"\u001b[0;36m, line \u001b[0;32m8\u001b[0m\n\u001b[0;31m    for i in\u001b[0m\n\u001b[0m             ^\u001b[0m\n\u001b[0;31mSyntaxError\u001b[0m\u001b[0;31m:\u001b[0m invalid syntax\n"
     ]
    }
   ],
   "source": [
    "import sqlite3\n",
    "import requests\n",
    "import bs4\n",
    "connection = sqlite3.connect(\"/home/student/7115/demo\")\n",
    "courser=connection.cursor()\n",
    "data=requests.get(\"https://www.darshan.ac.in/placement/list/engineering/computer/2023\")\n",
    "soup=Beautifulsoup(data.text,\"lxml\")\n",
    "for i in "
   ]
  },
  {
   "cell_type": "code",
   "execution_count": null,
   "metadata": {},
   "outputs": [],
   "source": []
  }
 ],
 "metadata": {
  "colab": {
   "name": "Python (Lab - 03) (List) - Payal Parmar.ipynb",
   "provenance": []
  },
  "kernelspec": {
   "display_name": "Python 3 (ipykernel)",
   "language": "python",
   "name": "python3"
  },
  "language_info": {
   "codemirror_mode": {
    "name": "ipython",
    "version": 3
   },
   "file_extension": ".py",
   "mimetype": "text/x-python",
   "name": "python",
   "nbconvert_exporter": "python",
   "pygments_lexer": "ipython3",
   "version": "3.9.12"
  }
 },
 "nbformat": 4,
 "nbformat_minor": 1
}

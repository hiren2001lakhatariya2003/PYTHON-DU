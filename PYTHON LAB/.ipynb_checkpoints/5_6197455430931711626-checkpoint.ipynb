{
 "cells": [
  {
   "cell_type": "markdown",
   "metadata": {
    "id": "5IxH57pmG-GY"
   },
   "source": [
    "\n",
    "___\n",
    "\n",
    "<a href='https://www.darshan.ac.in/'> <img src='https://gtu.darshan.ac.in/Upload/Logo/DIET_Logo.svg' /></a>\n",
    "___\n",
    "<pre>\n",
    "<center><b>Python for Data Science - 3150713</b></center>\n",
    "<center><b>Lab - 5</b></center>    \n",
    "<pre>"
   ]
  },
  {
   "cell_type": "markdown",
   "metadata": {
    "id": "_FHUM-CHG-Gd"
   },
   "source": [
    "# 1)\tScrape the data of Faculty and news data from darshan university website.\n",
    "\n"
   ]
  },
  {
   "cell_type": "code",
   "execution_count": null,
   "metadata": {
    "id": "ybLtCnveG-Ge",
    "outputId": "092082a0-6010-4ee1-fd15-376801468c73"
   },
   "outputs": [],
   "source": [
    "import requests\n",
    "import bs4\n",
    "\n",
    "data = requests.get(\"https://darshan.ac.in/engineering/computer/faculty\")\n",
    "# print(data.text)\n",
    "\n",
    "soap = bs4.BeautifulSoup(data.text,'lxml')\n",
    "allfaculty = soap.select(\"body > main > div:nth-child(5) > div > div > div.col-lg-8.col-xl-9.g-font-size-14 > div > div\")\n",
    "# print(allfaculty)\n",
    "for f in allfaculty:\n",
    "    name = f.select(\"h2\")[0].text.strip()\n",
    "    position = f.select(\"span\")[0].text.strip()\n",
    "\n",
    "    print(name,\"--\",position)"
   ]
  },
  {
   "cell_type": "markdown",
   "metadata": {},
   "source": [
    "# 2) Scrape the data of student placement from darshan university website."
   ]
  },
  {
   "cell_type": "code",
   "execution_count": null,
   "metadata": {},
   "outputs": [],
   "source": [
    "import requests\n",
    "import bs4\n",
    "\n",
    "data = requests.get(\"https://darshan.ac.in/placement/list/engineering/computer/2023\")\n",
    "# print(data.text)\n",
    "\n",
    "soap = bs4.BeautifulSoup(data.text,'lxml')\n",
    "allfaculty = soap.select(\"body > main > div:nth-child(5) > div > div > div.col-lg-8.col-xl-9.g-font-size-14.g-mb-30 > div.g-pt-20 > div.row.g-px-4.g-px-5--sm.g-px-5--md >div\")\n",
    "# print(allfaculty)\n",
    "for f in allfaculty:\n",
    "    name = f.select(\"h2\")[0].text.strip()\n",
    "    city = f.select(\"p\")[4].text.strip()\n",
    "\n",
    "    print(name,\"--\",city)"
   ]
  },
  {
   "cell_type": "markdown",
   "metadata": {},
   "source": [
    "# Write a python program to perform database operations on database using mysql and sqlite3.\n",
    "1)\t Display Student table from database.<br>\n",
    "2)\tInsert new recode into student table by user.\n",
    "\n"
   ]
  },
  {
   "cell_type": "code",
   "execution_count": null,
   "metadata": {},
   "outputs": [],
   "source": [
    "import sqlite3\n",
    "connection = sqlite3.connect(\"abc.db\")\n",
    "crsr = connection.cursor()\n",
    "print(\"Connected to the database\")\n",
    "#connection.close()\n",
    "\n",
    "#create student table\n",
    "sql_command = \"\"\"CREATE TABLE Student_table (\n",
    "roll_no INTEGER PRIMARY KEY,\n",
    "fname VARCHAR(50),\n",
    "lname VARCHAR(50),\n",
    "cpi FLOAT,\n",
    "city VARCHAR(20));\"\"\"\n",
    "crsr.execute(sql_command)\n",
    "#connection.close()\n",
    "\n",
    "sql_command = \"\"\"INSERT INTO Student_table VALUES \n",
    "(1, \"abc\", \"xyz\", 9.2, \"Rajkot\");\"\"\"\n",
    "crsr.execute(sql_command)\n",
    "sql_command = \"\"\"INSERT INTO Student_table VALUES \n",
    "(2, \"def\", \"pqr\", 8.9, \"Rajkot\");\"\"\"\n",
    "crsr.execute(sql_command)\n",
    "sql_command = \"\"\"INSERT INTO Student_table VALUES \n",
    "(3, \"ghi\", \"stu\", 7, \"Jamnagar\");\"\"\"\n",
    "crsr.execute(sql_command)\n",
    "sql_command = \"\"\"INSERT INTO Student_table VALUES \n",
    "(4, \"jkl\", \"sqr\", 9.21, \"Jamnagar\");\"\"\"\n",
    "crsr.execute(sql_command)\n",
    "sql_command = \"\"\"INSERT INTO Student_table VALUES \n",
    "(5, \"mno\", \"mno\", 8.66, \"Morbi\");\"\"\"\n",
    "crsr.execute(sql_command)\n",
    "connection.commit()\n",
    "#connection.close()\n",
    "\n",
    "crsr.execute(\"SELECT * FROM Student_table;\")\n",
    "ans = crsr.fetchall()\n",
    "for i in ans:\n",
    "  print(i)\n",
    "\n",
    "\n",
    "\n",
    "rno = input(\"Enter roll number : \")\n",
    "f_nm = input(\"Enter first name : \")\n",
    "l_nm = input(\"Enter last name : \")\n",
    "cpi = input(\"Enter CPI : \")\n",
    "ct = input(\"Enter city : \")\n",
    " \n",
    "crsr.execute(\"\"\"\n",
    "INSERT INTO Student_table(roll_no, fname, lname, cpi, city)\n",
    "VALUES (?,?,?,?,?)\n",
    "\"\"\", (rno, f_nm, l_nm, cpi, ct))\n",
    "\n",
    "connection.commit()\n",
    "#connection.close()\n",
    "\n",
    "\n",
    "crsr.execute(\"SELECT * FROM Student_table;\")\n",
    "ans = crsr.fetchall()\n",
    "for i in ans:\n",
    "  print(i)"
   ]
  }
 ],
 "metadata": {
  "colab": {
   "name": "Python (Lab - 03) (List) - Payal Parmar.ipynb",
   "provenance": []
  },
  "kernelspec": {
   "display_name": "Python 3 (ipykernel)",
   "language": "python",
   "name": "python3"
  },
  "language_info": {
   "codemirror_mode": {
    "name": "ipython",
    "version": 3
   },
   "file_extension": ".py",
   "mimetype": "text/x-python",
   "name": "python",
   "nbconvert_exporter": "python",
   "pygments_lexer": "ipython3",
   "version": "3.9.12"
  }
 },
 "nbformat": 4,
 "nbformat_minor": 1
}

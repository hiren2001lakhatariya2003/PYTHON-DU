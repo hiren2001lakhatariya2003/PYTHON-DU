{
 "cells": [
  {
   "cell_type": "markdown",
   "metadata": {},
   "source": [
    "\n",
    "___\n",
    "\n",
    "<a href='https://www.darshan.ac.in/'> <img src='https://gtu.darshan.ac.in/Upload/Logo/DIET_Logo.svg' /></a>\n",
    "___\n",
    "<pre>\n",
    "<center><b>Python for Data Science - 3150713</b></center>\n",
    "<center><b>Lab - 1</b></center>    \n",
    "<pre>"
   ]
  },
  {
   "cell_type": "markdown",
   "metadata": {},
   "source": [
    "# 01) WAP to add two numbers entered by user"
   ]
  },
  {
   "cell_type": "code",
   "execution_count": 8,
   "metadata": {},
   "outputs": [
    {
     "name": "stdout",
     "output_type": "stream",
     "text": [
      "1 + 2 = 3\n"
     ]
    }
   ],
   "source": [
    "number1 = int(input(\"Enter the 1st number : \"))\n",
    "number2 = int(input(\"Enter the 2nd number : \"))\n",
    "\n",
    "ans = number1 + number2\n",
    "\n",
    "print(\"{} + {} = {}\".format(number1,number2,ans))\n",
    "\n"
   ]
  },
  {
   "cell_type": "markdown",
   "metadata": {},
   "source": [
    "# 02) WAP to calculate simple interest."
   ]
  },
  {
   "cell_type": "code",
   "execution_count": 8,
   "metadata": {},
   "outputs": [
    {
     "name": "stdout",
     "output_type": "stream",
     "text": [
      "the simple interest is : 1728.0\n"
     ]
    }
   ],
   "source": [
    "price = int(input(\"Enter the amount of money : \"))\n",
    "interest = float(input(\"Enter the interest :\"))\n",
    "time = int(input(\"Enter the time period(in month) : \"))\n",
    "\n",
    "si = (price * interest * time)/100\n",
    "\n",
    "print(\"the simple interest is : {}\".format(si))\n"
   ]
  },
  {
   "cell_type": "markdown",
   "metadata": {},
   "source": [
    "# 03) WAP to calculate area of circle."
   ]
  },
  {
   "cell_type": "code",
   "execution_count": 6,
   "metadata": {},
   "outputs": [
    {
     "name": "stdout",
     "output_type": "stream",
     "text": [
      "The ara of circle is : 1521.142857142857\n"
     ]
    }
   ],
   "source": [
    "radius = float(input(\"Enter the radius of circle : \"))\n",
    "\n",
    "area = (22/7)*radius*radius\n",
    "\n",
    "print(\"The ara of circle is : {}\".format(area))"
   ]
  },
  {
   "cell_type": "markdown",
   "metadata": {},
   "source": [
    "# 04) WAP to print Multiplication table of given number without using loop."
   ]
  },
  {
   "cell_type": "code",
   "execution_count": 4,
   "metadata": {},
   "outputs": [
    {
     "name": "stdout",
     "output_type": "stream",
     "text": [
      "10 x 1 = 10\n",
      "10 x 2 = 20\n",
      "10 x 3 = 30\n",
      "10 x 4 = 40\n",
      "10 x 5 = 50\n",
      "10 x 6 = 60\n",
      "10 x 7 = 70\n",
      "10 x 8 = 80\n",
      "10 x 9 = 90\n",
      "10 x 10 = 100\n"
     ]
    }
   ],
   "source": [
    "number = int(input(\"enter the number :\"))\n",
    "\n",
    "print(\"{} x 1 = {}\".format(number,(number*1)))\n",
    "print(\"{} x 2 = {}\".format(number,(number*2)))\n",
    "print(\"{} x 3 = {}\".format(number,(number*3)))\n",
    "print(\"{} x 4 = {}\".format(number,(number*4)))\n",
    "print(\"{} x 5 = {}\".format(number,(number*5)))\n",
    "print(\"{} x 6 = {}\".format(number,(number*6)))\n",
    "print(\"{} x 7 = {}\".format(number,(number*7)))\n",
    "print(\"{} x 8 = {}\".format(number,(number*8)))\n",
    "print(\"{} x 9 = {}\".format(number,(number*9)))\n",
    "print(\"{} x 10 = {}\".format(number,(number*10)))"
   ]
  },
  {
   "cell_type": "markdown",
   "metadata": {},
   "source": [
    "# 05) WAP to check whether the given number is positive or negative."
   ]
  },
  {
   "cell_type": "code",
   "execution_count": 3,
   "metadata": {},
   "outputs": [
    {
     "name": "stdout",
     "output_type": "stream",
     "text": [
      "0 is Zero\n"
     ]
    }
   ],
   "source": [
    "number = int(input(\"enter the number :\"))\n",
    "\n",
    "if number>0 :\n",
    "    print(\"{} is Positive\".format(number))\n",
    "elif number <0:\n",
    "     print(\"{} is Nagative\".format(number))\n",
    "else : \n",
    "     print(\"{} is Zero\".format(number))"
   ]
  },
  {
   "cell_type": "markdown",
   "metadata": {},
   "source": [
    "# 06) WAP to find out largest number from given three numbers."
   ]
  },
  {
   "cell_type": "code",
   "execution_count": 7,
   "metadata": {},
   "outputs": [
    {
     "name": "stdout",
     "output_type": "stream",
     "text": [
      "14 is gretest.\n"
     ]
    }
   ],
   "source": [
    "num1 = int(input(\"Enter 1st number : \"))\n",
    "num2= int(input(\"Enter 2nd number : \"))\n",
    "num3 = int(input(\"Enter 3rd number : \"))\n",
    "\n",
    "if num1 > num2 :\n",
    "\tif num1 > num3 :\n",
    "\t\t#print(num1 , \" is gretest.\") # 1st method\n",
    "\t\tprint('{} is gretest.'.format(num1)) # 2nd method\n",
    "\telse :\n",
    "\t\t#print(num3 , \" is gretest.\") # 1st method\n",
    "\t\tprint('{} is gretest.'.format(num3)) # 2nd method\n",
    "else :\n",
    "\tif num2 > num3 :\n",
    "\t\t#print(num2 , \" is gretest.\") # 1st method\n",
    "\t\tprint('{} is gretest.'.format(num2)) #2nd method\n",
    "\telse :\n",
    "\t\t#print(num3 , \" is gretest.\") # 1st method\n",
    "\t\tprint('{} is gretest.'.format(num3)) #2nd method"
   ]
  },
  {
   "cell_type": "markdown",
   "metadata": {},
   "source": [
    "# 07) WAP to implement simple calculator which performs (add,sub,mul,div) of two numbers based on user input."
   ]
  },
  {
   "cell_type": "code",
   "execution_count": 6,
   "metadata": {},
   "outputs": [
    {
     "name": "stdout",
     "output_type": "stream",
     "text": [
      "10 / 1 = 10.0 \n"
     ]
    }
   ],
   "source": [
    "num1 = int(input(\"Enter 1st number : \"))\n",
    "num2= int(input(\"Enter 2nd number : \"))\n",
    "char= input(\"Enter character : \")\n",
    "\n",
    "if char=='+' : \n",
    "\tc = num1 + num2\n",
    "if char=='-':\n",
    "\tc = num1 - num2\n",
    "if char=='*':\n",
    "\tc = num1 * num2\n",
    "if char=='/':\n",
    "\tif num2==0 :\n",
    "\t\tprint(\"do not divide by zero\")\n",
    "\telse :\n",
    "\t\tc = num1/num2\n",
    "\t\t\n",
    "\t\n",
    "\n",
    "print('{0} {1} {2} = {3} '.format(num1,char,num2,c))\n"
   ]
  },
  {
   "cell_type": "markdown",
   "metadata": {},
   "source": [
    "# 08) WAP to print 1 to n"
   ]
  },
  {
   "cell_type": "code",
   "execution_count": 29,
   "metadata": {},
   "outputs": [
    {
     "name": "stdout",
     "output_type": "stream",
     "text": [
      "1 2 3 4 5 6 7 8 9 10 "
     ]
    }
   ],
   "source": [
    "number = int(input(\"Enter the number : \"))\n",
    "for i in range (1,number+1) :\n",
    "    print(i,end=\" \")"
   ]
  },
  {
   "cell_type": "markdown",
   "metadata": {},
   "source": [
    "# 09) WAP to print odd numbers between 1 to n"
   ]
  },
  {
   "cell_type": "code",
   "execution_count": 16,
   "metadata": {},
   "outputs": [
    {
     "name": "stdout",
     "output_type": "stream",
     "text": [
      "1 3 5 "
     ]
    }
   ],
   "source": [
    "number = int(input(\"Enter the number : \"))\n",
    "for i in range (1,number+1) :\n",
    "    if i%2!=0 :\n",
    "        print(i,end=\" \")"
   ]
  },
  {
   "cell_type": "markdown",
   "metadata": {},
   "source": [
    "# 10) WAP to print sum of series 1–2+3–4+5–6+7...n"
   ]
  },
  {
   "cell_type": "code",
   "execution_count": 15,
   "metadata": {},
   "outputs": [
    {
     "name": "stdout",
     "output_type": "stream",
     "text": [
      "4\n"
     ]
    }
   ],
   "source": [
    "\n",
    "number = int(input(\"enter the number : \"))\n",
    "sum=0\n",
    "for i in range(1,number+1) : \n",
    "    if i%2==0 :\n",
    "        sum = sum-i\n",
    "    else :\n",
    "        sum = sum+i\n",
    "\n",
    "print(sum)"
   ]
  },
  {
   "cell_type": "markdown",
   "metadata": {},
   "source": [
    "# 11) WAP to print multiplication table of given number."
   ]
  },
  {
   "cell_type": "code",
   "execution_count": 27,
   "metadata": {},
   "outputs": [
    {
     "name": "stdout",
     "output_type": "stream",
     "text": [
      "10 x 1 = 10\n",
      "10 x 2 = 20\n",
      "10 x 3 = 30\n",
      "10 x 4 = 40\n",
      "10 x 5 = 50\n",
      "10 x 6 = 60\n",
      "10 x 7 = 70\n",
      "10 x 8 = 80\n",
      "10 x 9 = 90\n",
      "10 x 10 = 100\n"
     ]
    }
   ],
   "source": [
    "number = int(input(\"enter the number : \"))\n",
    "for i in range (1,11) :\n",
    "    print(\"{} x {} = {}\".format(number,i,(number*i)))"
   ]
  },
  {
   "cell_type": "markdown",
   "metadata": {},
   "source": [
    "# 12) WAP to find factorial of the given number."
   ]
  },
  {
   "cell_type": "code",
   "execution_count": 33,
   "metadata": {},
   "outputs": [
    {
     "name": "stdout",
     "output_type": "stream",
     "text": [
      "the factorial of 5 = 120\n"
     ]
    }
   ],
   "source": [
    "number = int(input(\"enter the number : \"))\n",
    "fact = 1\n",
    "for i in range (1,number+1) :\n",
    "    fact *= i\n",
    "print(\"the factorial of {} = {}\".format(number,fact))\n"
   ]
  },
  {
   "cell_type": "markdown",
   "metadata": {},
   "source": [
    "# 13) WAP to find factors of the given number."
   ]
  },
  {
   "cell_type": "code",
   "execution_count": 35,
   "metadata": {},
   "outputs": [
    {
     "name": "stdout",
     "output_type": "stream",
     "text": [
      "the factors of 12 = \n",
      "1 , 2 , 3 , 4 , 6 , 12\n"
     ]
    }
   ],
   "source": [
    "number = int(input(\"enter the number : \"))\n",
    "print(\"the factors of {} = \".format(number))\n",
    "for i in range (1,number) : \n",
    "    if number%i==0 :\n",
    "        print(i,end=\" , \")\n",
    "print(number)"
   ]
  },
  {
   "cell_type": "markdown",
   "metadata": {},
   "source": [
    "# 14) WAP to find whether the given number is prime or not."
   ]
  },
  {
   "cell_type": "code",
   "execution_count": 37,
   "metadata": {},
   "outputs": [
    {
     "name": "stdout",
     "output_type": "stream",
     "text": [
      "13 is prime\n"
     ]
    }
   ],
   "source": [
    "number = int(input(\"Enter number : \"))\n",
    "flag =0\n",
    "\n",
    "for i in range(2,number) :\n",
    "\tif number%i==0 :\n",
    "\t\tflag=1\n",
    "\t\tbreak\n",
    "if flag==1 :\n",
    "\tprint('{} not prime'.format(number))\n",
    "else :\n",
    "\tprint('{} is prime'.format(number))"
   ]
  },
  {
   "cell_type": "markdown",
   "metadata": {},
   "source": [
    "# 15) WAP to print sum of digits of given number."
   ]
  },
  {
   "cell_type": "code",
   "execution_count": 46,
   "metadata": {},
   "outputs": [
    {
     "name": "stdout",
     "output_type": "stream",
     "text": [
      "the sum of 12345 is : 15\n"
     ]
    }
   ],
   "source": [
    "number = int(input(\"Enter number : \"))\n",
    "temp = number\n",
    "sum=0\n",
    "while number!=0 :\n",
    "    digit = (int)(number % 10) \n",
    "    sum += digit\n",
    "    number = number/10\n",
    "\n",
    "print(\"the sum of {} is : {}\".format(temp,sum))"
   ]
  },
  {
   "cell_type": "markdown",
   "metadata": {},
   "source": [
    "# 16) WAP to find out prime numbers between given two numbers."
   ]
  },
  {
   "cell_type": "code",
   "execution_count": 22,
   "metadata": {},
   "outputs": [
    {
     "name": "stdout",
     "output_type": "stream",
     "text": [
      "1\n",
      "2\n",
      "3\n",
      "5\n",
      "7\n"
     ]
    }
   ],
   "source": [
    "num1 = int(input(\"Enter 1st number : \"))\n",
    "num2 = int(input(\"Enter 2nd number : \"))\n",
    "\n",
    "\n",
    "for i in range(num1,num2) :\n",
    "\tflag=0\n",
    "\tfor j in range (2,i) :\n",
    "\t\tif i%j==0 :\n",
    "\t\t\tflag=1\n",
    "\t\t\tbreak\n",
    "\tif flag==0 :\n",
    "\t\tprint(i)"
   ]
  },
  {
   "cell_type": "markdown",
   "metadata": {},
   "source": [
    "# 17) WAP to print Fibonacci series up to number given by user."
   ]
  },
  {
   "cell_type": "code",
   "execution_count": 11,
   "metadata": {},
   "outputs": [
    {
     "name": "stdout",
     "output_type": "stream",
     "text": [
      "0  1  1  2  3  5  8  13  21  34  55  89  144  233  377  "
     ]
    }
   ],
   "source": [
    "number = int(input(\"Enter number : \"))\n",
    "a = 0\n",
    "b = 1\n",
    "print (\"{}  {}\".format(a,b),end=\"  \")\n",
    "for i in range (2,number) :\n",
    "    c = a + b\n",
    "    print (c,end=\"  \")\n",
    "    a=b\n",
    "    b=c"
   ]
  },
  {
   "cell_type": "markdown",
   "metadata": {},
   "source": [
    "# 18) WAP to Find largest prime factor of given number."
   ]
  },
  {
   "cell_type": "code",
   "execution_count": 1,
   "metadata": {},
   "outputs": [
    {
     "name": "stdout",
     "output_type": "stream",
     "text": [
      "5\n"
     ]
    }
   ],
   "source": [
    "n = int(input(\"Enter the number : \"))\n",
    "flag=0\n",
    "mylist = []\n",
    "for i in range (1,n+1) :\n",
    "    if n%i==0 :\n",
    "        for j in range (2,i) :\n",
    "            if i%j==0 :\n",
    "                flag=1\n",
    "                break\n",
    "        if flag==0 :\n",
    "            mylist.append(i)\n",
    "\n",
    "print(mylist[len(mylist)-1])"
   ]
  },
  {
   "cell_type": "markdown",
   "metadata": {},
   "source": [
    "# 19) WAP to print sum for cube of first n natural numbers."
   ]
  },
  {
   "cell_type": "code",
   "execution_count": 1,
   "metadata": {},
   "outputs": [
    {
     "name": "stdout",
     "output_type": "stream",
     "text": [
      "225\n"
     ]
    }
   ],
   "source": [
    "n =int(input(\"enter the number : \"))\n",
    "sum=0\n",
    "\n",
    "for i in range(1,n+1) :\n",
    "    sum+=(i*i*i)\n",
    "print(sum)"
   ]
  },
  {
   "cell_type": "markdown",
   "metadata": {},
   "source": [
    "# 20) WAP to converts the given decimal number to its binary equivalent.\n",
    "\n"
   ]
  },
  {
   "cell_type": "code",
   "execution_count": 80,
   "metadata": {},
   "outputs": [
    {
     "name": "stdout",
     "output_type": "stream",
     "text": [
      "1 1 0 0 "
     ]
    }
   ],
   "source": [
    "n =int(input(\"enter the number : \"))\n",
    "mylist=[]\n",
    "while n!=0 :\n",
    "    reminder = n%2\n",
    "    mylist.append(reminder)\n",
    "    n=(int)(n/2)\n",
    "\n",
    "mylist.reverse()\n",
    "\n",
    "for i in range (0,len(mylist)) : \n",
    "    print(mylist[i],end=\" \")\n",
    "    "
   ]
  },
  {
   "cell_type": "markdown",
   "metadata": {},
   "source": [
    "# 21) WAP to print following pattern\n",
    "\n",
    "<pre>\n",
    "*\n",
    "* *\n",
    "* * *\n",
    "* * * *\n",
    "</pre>\n"
   ]
  },
  {
   "cell_type": "code",
   "execution_count": 55,
   "metadata": {},
   "outputs": [
    {
     "name": "stdout",
     "output_type": "stream",
     "text": [
      "*  \n",
      "*  *  \n",
      "*  *  *  \n",
      "*  *  *  *  \n"
     ]
    }
   ],
   "source": [
    "n =int(input(\"enter the number : \"))\n",
    "\n",
    "for i in range (1,n+1) :\n",
    "    for j in range (1,i+1) :\n",
    "        print(\"*  \", end=\"\")\n",
    "    print(end=\"\\n\")"
   ]
  },
  {
   "cell_type": "markdown",
   "metadata": {},
   "source": [
    "# 22) WAP to print following pattern\n",
    "\n",
    "<pre>$ $ $ $\n",
    "$ $ $\n",
    "$ $\n",
    "$</pre>\n"
   ]
  },
  {
   "cell_type": "code",
   "execution_count": 72,
   "metadata": {},
   "outputs": [
    {
     "name": "stdout",
     "output_type": "stream",
     "text": [
      "$  $  $  $  \n",
      "$  $  $  \n",
      "$  $  \n",
      "$  \n"
     ]
    }
   ],
   "source": [
    "n =int(input(\"enter the number : \"))\n",
    "\n",
    "for i in range (n,0,-1) :\n",
    "    for j in range (0,i) :\n",
    "        print(\"$  \", end=\"\")\n",
    "    print(end=\"\\n\")"
   ]
  },
  {
   "cell_type": "markdown",
   "metadata": {},
   "source": [
    "# 23) WAP to print following pattern\n",
    "\n",
    "<pre>\n",
    "# # # # #\n",
    "  # # #\n",
    "    #\n",
    "  # # #\n",
    "# # # # #\n",
    "</pre>\n"
   ]
  },
  {
   "cell_type": "code",
   "execution_count": 5,
   "metadata": {},
   "outputs": [
    {
     "name": "stdout",
     "output_type": "stream",
     "text": [
      " # # # # # \n",
      "   # # #   \n",
      "     #     \n",
      "   # # #   \n",
      " # # # # # \n"
     ]
    }
   ],
   "source": [
    "n = int(input(\"Enter the number : \"))\n",
    "for i in range(1,n+1):\n",
    "    for j in range(1,n+1):\n",
    "        if(i<=int((n+1)/2)):\n",
    "            if(j>=i and j<=(n+1)-i):\n",
    "                print(\" #\", end='')\n",
    "            else:\n",
    "                print(\"  \", end='')\n",
    "        else:\n",
    "            if(j>=(n+1)-i and j<=i):\n",
    "                print(\" #\", end='')\n",
    "            else:\n",
    "                print(\"  \", end='')\n",
    "    print(\" \")"
   ]
  },
  {
   "cell_type": "markdown",
   "metadata": {},
   "source": [
    "# 24) WAP to print following pattern\n",
    "\n",
    "<pre>\n",
    "1\n",
    "2 3\n",
    "4 5 6\n",
    "7 8 9 10\n",
    "</pre>\n"
   ]
  },
  {
   "cell_type": "code",
   "execution_count": 1,
   "metadata": {},
   "outputs": [
    {
     "name": "stdout",
     "output_type": "stream",
     "text": [
      "1  \n",
      "2  3  \n",
      "4  5  6  \n",
      "7  8  9  10  \n",
      "11  12  13  14  15  \n"
     ]
    }
   ],
   "source": [
    "n =int(input(\"enter the number : \"))\n",
    "number=1\n",
    "for i in range (1,n+1) :\n",
    "    for j in range (1,i+1) :\n",
    "        print(\"{}  \".format(number), end=\"\")\n",
    "        number+=1\n",
    "    print(end=\"\\n\")"
   ]
  }
 ],
 "metadata": {
  "kernelspec": {
   "display_name": "Python 3.10.5 64-bit",
   "language": "python",
   "name": "python3"
  },
  "language_info": {
   "codemirror_mode": {
    "name": "ipython",
    "version": 3
   },
   "file_extension": ".py",
   "mimetype": "text/x-python",
   "name": "python",
   "nbconvert_exporter": "python",
   "pygments_lexer": "ipython3",
   "version": "3.10.6"
  },
  "vscode": {
   "interpreter": {
    "hash": "aee8b7b246df8f9039afb4144a1f6fd8d2ca17a180786b69acc140d282b71a49"
   }
  }
 },
 "nbformat": 4,
 "nbformat_minor": 4
}

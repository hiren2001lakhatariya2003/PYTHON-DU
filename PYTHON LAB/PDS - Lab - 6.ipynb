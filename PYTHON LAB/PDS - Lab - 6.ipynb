{
 "cells": [
  {
   "cell_type": "markdown",
   "metadata": {
    "id": "5IxH57pmG-GY"
   },
   "source": [
    "\n",
    "___\n",
    "\n",
    "<a href='https://www.darshan.ac.in/'> <img src='https://gtu.darshan.ac.in/Upload/Logo/DIET_Logo.svg' /></a>\n",
    "___\n",
    "<pre>\n",
    "<center><b>Python for Data Science - 3150713</b></center>\n",
    "<center><b>Lab - 6</b></center>    \n",
    "<pre>"
   ]
  },
  {
   "cell_type": "markdown",
   "metadata": {
    "id": "_FHUM-CHG-Gd"
   },
   "source": [
    "# 1.\tWAP to read entire file named abc.txt\n",
    "\n"
   ]
  },
  {
   "cell_type": "code",
   "execution_count": 14,
   "metadata": {
    "id": "ybLtCnveG-Ge",
    "outputId": "092082a0-6010-4ee1-fd15-376801468c73"
   },
   "outputs": [
    {
     "name": "stdout",
     "output_type": "stream",
     "text": [
      "hello\n",
      "how are you?\n",
      "good morning..\n",
      "Have a nice day!\n",
      "good luck \n",
      "enjoy.\n",
      "health is wealth..\n"
     ]
    }
   ],
   "source": [
    "f = open(\"abc.txt\")\n",
    "data = f.read()\n",
    "print(data)\n",
    "f.close()"
   ]
  },
  {
   "cell_type": "markdown",
   "metadata": {},
   "source": [
    "# 2.\tWAP to read first 5 lines from the file named abc.txt"
   ]
  },
  {
   "cell_type": "code",
   "execution_count": 17,
   "metadata": {},
   "outputs": [
    {
     "name": "stdout",
     "output_type": "stream",
     "text": [
      "hello\n",
      "\n",
      "how are you?\n",
      "\n",
      "good morning..\n",
      "\n",
      "Have a nice day!\n",
      "\n",
      "good luck \n",
      "\n"
     ]
    }
   ],
   "source": [
    "f = open(\"abc.txt\")\n",
    "data = f.readlines()\n",
    "count_line=0\n",
    "for l in data:\n",
    "    count_line+=1\n",
    "    if count_line<=5:\n",
    "        print(l)\n",
    "    else:\n",
    "        break\n",
    "f.close()"
   ]
  },
  {
   "cell_type": "markdown",
   "metadata": {},
   "source": [
    "# 3.\tWAP to read file line by line and store lines as a List.\n"
   ]
  },
  {
   "cell_type": "code",
   "execution_count": 20,
   "metadata": {},
   "outputs": [
    {
     "name": "stdout",
     "output_type": "stream",
     "text": [
      "['hello\\n', 'how are you?\\n', 'good morning..\\n', 'Have a nice day!\\n', 'good luck \\n', 'enjoy.\\n', 'health is wealth..']\n"
     ]
    }
   ],
   "source": [
    "f = open(\"abc.txt\")\n",
    "data = f.readlines()\n",
    "myArray=[]\n",
    "\n",
    "for l in data:\n",
    "    myArray.append(l)\n",
    "\n",
    "print(myArray)\n",
    "f.close()"
   ]
  },
  {
   "cell_type": "markdown",
   "metadata": {},
   "source": [
    "# 4.\tWAP to find the longest word in a file named abc.txt"
   ]
  },
  {
   "cell_type": "code",
   "execution_count": 21,
   "metadata": {},
   "outputs": [
    {
     "name": "stdout",
     "output_type": "stream",
     "text": [
      "morning..\n",
      "\n"
     ]
    }
   ],
   "source": [
    "f = open(\"abc.txt\")\n",
    "line = f.readlines()\n",
    "longestWord=\"\"\n",
    "mxln = 0\n",
    "for l in line:\n",
    "    words = l.split(\" \")\n",
    "    for word in words:\n",
    "        x = len(word)\n",
    "        if x>mxln:\n",
    "            mxln = len(word)\n",
    "            longestWord = word\n",
    "print(longestWord)"
   ]
  },
  {
   "cell_type": "markdown",
   "metadata": {},
   "source": [
    "# 5.\tWAP to count lines, word, and characters within a text file."
   ]
  },
  {
   "cell_type": "code",
   "execution_count": 25,
   "metadata": {},
   "outputs": [
    {
     "name": "stdout",
     "output_type": "stream",
     "text": [
      "TotalLines :  7 \n",
      "TotalWords :  17 \n",
      "TotalCharacters :  77\n"
     ]
    }
   ],
   "source": [
    "f = open(\"abc.txt\")\n",
    "data = f.readlines()\n",
    "totallines=0\n",
    "totalwords=0\n",
    "totalchars=0\n",
    "\n",
    "for d in data:\n",
    "        totallines+=1\n",
    "        words=d.split(\" \")\n",
    "        for word in words:\n",
    "            totalwords+=1;\n",
    "            totalchars+=len(word)\n",
    "print(\"TotalLines : \",totallines,\"\\nTotalWords : \",totalwords,\"\\nTotalCharacters : \",totalchars)\n",
    "            "
   ]
  },
  {
   "cell_type": "markdown",
   "metadata": {},
   "source": [
    "# 6.\tWrite an application that reads a file and counts the number of occurrences of word."
   ]
  },
  {
   "cell_type": "code",
   "execution_count": null,
   "metadata": {},
   "outputs": [],
   "source": []
  },
  {
   "cell_type": "markdown",
   "metadata": {},
   "source": [
    "# 7.\tWAP to copy content of abc.txt to xyz.txt"
   ]
  },
  {
   "cell_type": "code",
   "execution_count": null,
   "metadata": {},
   "outputs": [],
   "source": []
  },
  {
   "cell_type": "markdown",
   "metadata": {},
   "source": [
    "# 8.\tWAP to append next 50 prime numbers to a file named primenumbers.txt)"
   ]
  },
  {
   "cell_type": "code",
   "execution_count": null,
   "metadata": {},
   "outputs": [],
   "source": []
  }
 ],
 "metadata": {
  "colab": {
   "name": "Python (Lab - 03) (List) - Payal Parmar.ipynb",
   "provenance": []
  },
  "kernelspec": {
   "display_name": "Python 3 (ipykernel)",
   "language": "python",
   "name": "python3"
  },
  "language_info": {
   "codemirror_mode": {
    "name": "ipython",
    "version": 3
   },
   "file_extension": ".py",
   "mimetype": "text/x-python",
   "name": "python",
   "nbconvert_exporter": "python",
   "pygments_lexer": "ipython3",
   "version": "3.9.12"
  }
 },
 "nbformat": 4,
 "nbformat_minor": 1
}

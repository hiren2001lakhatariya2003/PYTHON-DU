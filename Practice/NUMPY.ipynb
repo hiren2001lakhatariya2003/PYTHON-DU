{
 "cells": [
  {
   "cell_type": "code",
   "execution_count": 1,
   "id": "a41e2ecf",
   "metadata": {},
   "outputs": [],
   "source": [
    "import numpy as np"
   ]
  },
  {
   "cell_type": "code",
   "execution_count": 2,
   "id": "066b9507",
   "metadata": {},
   "outputs": [
    {
     "data": {
      "text/plain": [
       "array([1, 2, 3, 4])"
      ]
     },
     "execution_count": 2,
     "metadata": {},
     "output_type": "execute_result"
    }
   ],
   "source": [
    "anp1 = np.array([1,2,3,4])\n",
    "anp1"
   ]
  },
  {
   "cell_type": "code",
   "execution_count": 3,
   "id": "92cdeb76",
   "metadata": {},
   "outputs": [
    {
     "data": {
      "text/plain": [
       "array([1, 3, 5, 7, 9])"
      ]
     },
     "execution_count": 3,
     "metadata": {},
     "output_type": "execute_result"
    }
   ],
   "source": [
    "anp2 = np.arange(1,11,2)\n",
    "anp2"
   ]
  },
  {
   "cell_type": "code",
   "execution_count": 4,
   "id": "6e3ca6f9",
   "metadata": {},
   "outputs": [
    {
     "data": {
      "text/plain": [
       "array([[0., 0.],\n",
       "       [0., 0.],\n",
       "       [0., 0.],\n",
       "       [0., 0.],\n",
       "       [0., 0.],\n",
       "       [0., 0.],\n",
       "       [0., 0.],\n",
       "       [0., 0.],\n",
       "       [0., 0.],\n",
       "       [0., 0.]])"
      ]
     },
     "execution_count": 4,
     "metadata": {},
     "output_type": "execute_result"
    }
   ],
   "source": [
    "anp3 = np.zeros((10,2))\n",
    "anp3"
   ]
  },
  {
   "cell_type": "code",
   "execution_count": 5,
   "id": "6ec09c63",
   "metadata": {},
   "outputs": [
    {
     "data": {
      "text/plain": [
       "array([[10., 10.],\n",
       "       [10., 10.],\n",
       "       [10., 10.],\n",
       "       [10., 10.],\n",
       "       [10., 10.],\n",
       "       [10., 10.],\n",
       "       [10., 10.],\n",
       "       [10., 10.],\n",
       "       [10., 10.],\n",
       "       [10., 10.]])"
      ]
     },
     "execution_count": 5,
     "metadata": {},
     "output_type": "execute_result"
    }
   ],
   "source": [
    "anp4 = np.ones((10,2))\n",
    "anp4 =  anp4 * 10\n",
    "anp4"
   ]
  },
  {
   "cell_type": "code",
   "execution_count": 6,
   "id": "d9fe4dd2",
   "metadata": {},
   "outputs": [
    {
     "data": {
      "text/plain": [
       "array([[1., 0., 0., 0., 0.],\n",
       "       [0., 1., 0., 0., 0.],\n",
       "       [0., 0., 1., 0., 0.],\n",
       "       [0., 0., 0., 1., 0.],\n",
       "       [0., 0., 0., 0., 1.]])"
      ]
     },
     "execution_count": 6,
     "metadata": {},
     "output_type": "execute_result"
    }
   ],
   "source": [
    "anp5 = np.eye(5)\n",
    "anp5"
   ]
  },
  {
   "cell_type": "code",
   "execution_count": 7,
   "id": "268e2f0a",
   "metadata": {},
   "outputs": [
    {
     "data": {
      "text/plain": [
       "array([ 0.,  5., 10., 15., 20., 25.])"
      ]
     },
     "execution_count": 7,
     "metadata": {},
     "output_type": "execute_result"
    }
   ],
   "source": [
    "anp6 = np.linspace(0,25,6)\n",
    "anp6"
   ]
  },
  {
   "cell_type": "code",
   "execution_count": 8,
   "id": "6979d51d",
   "metadata": {},
   "outputs": [
    {
     "data": {
      "text/plain": [
       "2"
      ]
     },
     "execution_count": 8,
     "metadata": {},
     "output_type": "execute_result"
    }
   ],
   "source": [
    "len(anp5.shape)"
   ]
  },
  {
   "cell_type": "code",
   "execution_count": 9,
   "id": "3ea0d6da",
   "metadata": {},
   "outputs": [
    {
     "data": {
      "text/plain": [
       "array([[[ 1,  2,  3],\n",
       "        [ 4,  5,  6],\n",
       "        [ 7,  8,  9]],\n",
       "\n",
       "       [[10, 11, 12],\n",
       "        [13, 14, 15],\n",
       "        [16, 17, 18]],\n",
       "\n",
       "       [[19, 20, 21],\n",
       "        [22, 23, 24],\n",
       "        [25, 26, 27]]])"
      ]
     },
     "execution_count": 9,
     "metadata": {},
     "output_type": "execute_result"
    }
   ],
   "source": [
    "anp7 = np.arange(1,28)\n",
    "temp = anp7.reshape(3,3,3)\n",
    "temp"
   ]
  },
  {
   "cell_type": "markdown",
   "id": "ff36ebaf",
   "metadata": {},
   "source": [
    "<h1> Numpy Random </h1>"
   ]
  },
  {
   "cell_type": "code",
   "execution_count": 10,
   "id": "d603c6c3",
   "metadata": {},
   "outputs": [
    {
     "data": {
      "text/plain": [
       "array([[0.4282012 , 0.295444  , 0.03674272, 0.98308797],\n",
       "       [0.75060143, 0.65604696, 0.18921974, 0.92923807],\n",
       "       [0.38235172, 0.17145954, 0.27629467, 0.6334929 ]])"
      ]
     },
     "execution_count": 10,
     "metadata": {},
     "output_type": "execute_result"
    }
   ],
   "source": [
    "a = np.random.rand(3,4)\n",
    "a"
   ]
  },
  {
   "cell_type": "code",
   "execution_count": 11,
   "id": "99aaa72e",
   "metadata": {},
   "outputs": [
    {
     "data": {
      "text/plain": [
       "array([1, 2, 1, 1, 2, 1, 1, 2, 2, 1])"
      ]
     },
     "execution_count": 11,
     "metadata": {},
     "output_type": "execute_result"
    }
   ],
   "source": [
    "anp8 = np.random.randint(1,3,10)\n",
    "anp8"
   ]
  },
  {
   "cell_type": "code",
   "execution_count": 12,
   "id": "e1e5eabd",
   "metadata": {},
   "outputs": [
    {
     "data": {
      "text/plain": [
       "<function matplotlib.pyplot.show(close=None, block=None)>"
      ]
     },
     "execution_count": 12,
     "metadata": {},
     "output_type": "execute_result"
    },
    {
     "data": {
      "image/png": "[encoded data removed]",
      "text/plain": [
       "<Figure size 432x288 with 1 Axes>"
      ]
     },
     "metadata": {
      "needs_background": "light"
     },
     "output_type": "display_data"
    }
   ],
   "source": [
    "from matplotlib import pyplot as plt\n",
    "anp9 = np.random.rand(100000)\n",
    "\n",
    "plt.hist(anp9,100)\n",
    "plt.show"
   ]
  },
  {
   "cell_type": "code",
   "execution_count": 13,
   "id": "090d308f",
   "metadata": {},
   "outputs": [
    {
     "data": {
      "text/plain": [
       "<function matplotlib.pyplot.show(close=None, block=None)>"
      ]
     },
     "execution_count": 13,
     "metadata": {},
     "output_type": "execute_result"
    },
    {
     "data": {
      "image/png": "[encoded data removed]",
      "text/plain": [
       "<Figure size 432x288 with 1 Axes>"
      ]
     },
     "metadata": {
      "needs_background": "light"
     },
     "output_type": "display_data"
    }
   ],
   "source": [
    "from matplotlib import pyplot as plt\n",
    "anp10 = np.random.randn(100000000)\n",
    "\n",
    "plt.hist(anp10,100)\n",
    "plt.show"
   ]
  },
  {
   "cell_type": "code",
   "execution_count": 14,
   "id": "0984b002",
   "metadata": {},
   "outputs": [
    {
     "data": {
      "text/plain": [
       "array([[ 1,  2,  3,  4,  5],\n",
       "       [ 6,  7,  8,  9, 10],\n",
       "       [11, 12, 13, 14, 15],\n",
       "       [16, 17, 18, 19, 20],\n",
       "       [21, 22, 23, 24, 25]])"
      ]
     },
     "execution_count": 14,
     "metadata": {},
     "output_type": "execute_result"
    }
   ],
   "source": [
    "anp11 = np.arange(1,26).reshape(5,5)\n",
    "anp11"
   ]
  },
  {
   "cell_type": "code",
   "execution_count": 15,
   "id": "b10a5bec",
   "metadata": {},
   "outputs": [
    {
     "data": {
      "text/plain": [
       "array([ 4,  9, 14])"
      ]
     },
     "execution_count": 15,
     "metadata": {},
     "output_type": "execute_result"
    }
   ],
   "source": [
    "anp11[0:3,3]"
   ]
  },
  {
   "cell_type": "code",
   "execution_count": null,
   "id": "5757bf88",
   "metadata": {},
   "outputs": [],
   "source": []
  },
  {
   "cell_type": "code",
   "execution_count": null,
   "id": "2d6ed017",
   "metadata": {},
   "outputs": [],
   "source": []
  },
  {
   "cell_type": "code",
   "execution_count": null,
   "id": "e3ddc8f2",
   "metadata": {},
   "outputs": [],
   "source": []
  },
  {
   "cell_type": "code",
   "execution_count": null,
   "id": "734f14f8",
   "metadata": {},
   "outputs": [],
   "source": []
  },
  {
   "cell_type": "code",
   "execution_count": null,
   "id": "2446ff11",
   "metadata": {},
   "outputs": [],
   "source": []
  },
  {
   "cell_type": "code",
   "execution_count": null,
   "id": "2219d196",
   "metadata": {},
   "outputs": [],
   "source": []
  },
  {
   "cell_type": "code",
   "execution_count": null,
   "id": "49cc01d9",
   "metadata": {},
   "outputs": [],
   "source": []
  },
  {
   "cell_type": "code",
   "execution_count": null,
   "id": "1014ac66",
   "metadata": {},
   "outputs": [],
   "source": []
  },
  {
   "cell_type": "code",
   "execution_count": 16,
   "id": "061b05ce",
   "metadata": {},
   "outputs": [
    {
     "data": {
      "text/plain": [
       "array([[5, 3, 7],\n",
       "       [4, 6, 9],\n",
       "       [3, 9, 5]])"
      ]
     },
     "execution_count": 16,
     "metadata": {},
     "output_type": "execute_result"
    }
   ],
   "source": [
    "anp12 = np.random.randint(1,10,(3,3))\n",
    "anp12"
   ]
  },
  {
   "cell_type": "code",
   "execution_count": 17,
   "id": "d2885845",
   "metadata": {},
   "outputs": [
    {
     "data": {
      "text/plain": [
       "array([[5, 1, 2],\n",
       "       [5, 9, 1],\n",
       "       [1, 6, 1]])"
      ]
     },
     "execution_count": 17,
     "metadata": {},
     "output_type": "execute_result"
    }
   ],
   "source": [
    "anp13 = np.random.randint(1,10,(3,3))\n",
    "anp13"
   ]
  },
  {
   "cell_type": "code",
   "execution_count": 18,
   "id": "297489e0",
   "metadata": {},
   "outputs": [
    {
     "data": {
      "text/plain": [
       "array([[ 47,  74,  20],\n",
       "       [ 59, 112,  23],\n",
       "       [ 65, 114,  20]])"
      ]
     },
     "execution_count": 18,
     "metadata": {},
     "output_type": "execute_result"
    }
   ],
   "source": [
    "anp14 = anp12 @ anp13\n",
    "anp14"
   ]
  },
  {
   "cell_type": "code",
   "execution_count": 19,
   "id": "17ebde25",
   "metadata": {},
   "outputs": [
    {
     "data": {
      "text/plain": [
       "array([ 1,  2,  3,  4,  5,  6,  7,  8,  9, 10])"
      ]
     },
     "execution_count": 19,
     "metadata": {},
     "output_type": "execute_result"
    }
   ],
   "source": [
    "anp15 = np.arange(1,11)\n",
    "anp15"
   ]
  },
  {
   "cell_type": "code",
   "execution_count": 20,
   "id": "c805538e",
   "metadata": {},
   "outputs": [],
   "source": [
    "tempa = anp15[2:4]\n",
    "tempa[:] = 500"
   ]
  },
  {
   "cell_type": "code",
   "execution_count": 21,
   "id": "c957f7fd",
   "metadata": {},
   "outputs": [
    {
     "name": "stdout",
     "output_type": "stream",
     "text": [
      "[  1   2 500 500   5   6   7   8   9  10]\n",
      "[500 500]\n"
     ]
    }
   ],
   "source": [
    "print(anp15)\n",
    "print(tempa)"
   ]
  },
  {
   "cell_type": "code",
   "execution_count": 22,
   "id": "16e9105b",
   "metadata": {},
   "outputs": [
    {
     "data": {
      "text/plain": [
       "array([130, 148, 110, 129, 189, 180, 161, 191, 150, 108])"
      ]
     },
     "execution_count": 22,
     "metadata": {},
     "output_type": "execute_result"
    }
   ],
   "source": [
    "anp16 = np.random.randint(100,200,10)\n",
    "anp16"
   ]
  },
  {
   "cell_type": "code",
   "execution_count": 23,
   "id": "35e67e03",
   "metadata": {},
   "outputs": [
    {
     "data": {
      "text/plain": [
       "array([108, 110, 129, 130, 148, 150, 161, 180, 189, 191])"
      ]
     },
     "execution_count": 23,
     "metadata": {},
     "output_type": "execute_result"
    }
   ],
   "source": [
    "anp16.sort()\n",
    "anp16"
   ]
  },
  {
   "cell_type": "code",
   "execution_count": 24,
   "id": "aef5859a",
   "metadata": {},
   "outputs": [
    {
     "data": {
      "text/plain": [
       "array([45, 34, 89, 90, 23, 10, 45, 67])"
      ]
     },
     "execution_count": 24,
     "metadata": {},
     "output_type": "execute_result"
    }
   ],
   "source": [
    "anp17 = np.array([45,34,89,90,23,10,45,67])\n",
    "anp17"
   ]
  },
  {
   "cell_type": "code",
   "execution_count": 25,
   "id": "ed548f07",
   "metadata": {},
   "outputs": [
    {
     "data": {
      "text/plain": [
       "array([45, 34, 89, 90, 23, 10, 45, 67])"
      ]
     },
     "execution_count": 25,
     "metadata": {},
     "output_type": "execute_result"
    }
   ],
   "source": [
    "tempc =  anp17[anp17 % 2 == 0]\n",
    "tempc[:] = 500\n",
    "anp17"
   ]
  },
  {
   "cell_type": "code",
   "execution_count": 26,
   "id": "9ef28b88",
   "metadata": {},
   "outputs": [
    {
     "data": {
      "text/plain": [
       "44.0"
      ]
     },
     "execution_count": 26,
     "metadata": {},
     "output_type": "execute_result"
    }
   ],
   "source": [
    "anp18 = np.array([1,1,1,111,1])\n",
    "anp18.std()"
   ]
  },
  {
   "cell_type": "code",
   "execution_count": 37,
   "id": "2e5a3516",
   "metadata": {},
   "outputs": [
    {
     "name": "stdout",
     "output_type": "stream",
     "text": [
      "[52 90 32 39 49 70 48 62]\n"
     ]
    }
   ],
   "source": [
    "arrays=np.random.randint(1,100,10)\n",
    "arrays\n",
    "cond = arrays>30\n",
    "print(arrays[cond])"
   ]
  },
  {
   "cell_type": "code",
   "execution_count": null,
   "id": "350a4d77",
   "metadata": {},
   "outputs": [],
   "source": []
  }
 ],
 "metadata": {
  "kernelspec": {
   "display_name": "Python 3 (ipykernel)",
   "language": "python",
   "name": "python3"
  },
  "language_info": {
   "codemirror_mode": {
    "name": "ipython",
    "version": 3
   },
   "file_extension": ".py",
   "mimetype": "text/x-python",
   "name": "python",
   "nbconvert_exporter": "python",
   "pygments_lexer": "ipython3",
   "version": "3.9.12"
  }
 },
 "nbformat": 4,
 "nbformat_minor": 5
}

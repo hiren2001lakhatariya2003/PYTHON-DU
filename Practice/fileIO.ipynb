{
 "cells": [
  {
   "cell_type": "code",
   "execution_count": 2,
   "id": "cb3401bb",
   "metadata": {},
   "outputs": [
    {
     "name": "stdout",
     "output_type": "stream",
     "text": [
      "102\n",
      "103\n",
      "107\n"
     ]
    }
   ],
   "source": [
    "with open('mydata.csv') as csvFile:\n",
    "    dataLines= csvFile.readlines()\n",
    "    for data in dataLines:\n",
    "        studata = data.split(',')\n",
    "        if '0' in studata[1]:\n",
    "            print(studata[0])"
   ]
  },
  {
   "cell_type": "code",
   "execution_count": 7,
   "id": "8f804d1f",
   "metadata": {},
   "outputs": [
    {
     "name": "stdout",
     "output_type": "stream",
     "text": [
      "   101  1\n",
      "0  102  0\n",
      "1  103  0\n",
      "2  104  1\n",
      "3  105  1\n",
      "4  106  1\n",
      "5  107  0\n",
      "6  108  1\n"
     ]
    }
   ],
   "source": [
    "import pandas as pd\n",
    "data = pd.read_csv('mydata.csv')\n",
    "print(data)"
   ]
  },
  {
   "cell_type": "code",
   "execution_count": null,
   "id": "a966c9d1",
   "metadata": {},
   "outputs": [],
   "source": []
  }
 ],
 "metadata": {
  "kernelspec": {
   "display_name": "Python 3 (ipykernel)",
   "language": "python",
   "name": "python3"
  },
  "language_info": {
   "codemirror_mode": {
    "name": "ipython",
    "version": 3
   },
   "file_extension": ".py",
   "mimetype": "text/x-python",
   "name": "python",
   "nbconvert_exporter": "python",
   "pygments_lexer": "ipython3",
   "version": "3.9.12"
  }
 },
 "nbformat": 4,
 "nbformat_minor": 5
}

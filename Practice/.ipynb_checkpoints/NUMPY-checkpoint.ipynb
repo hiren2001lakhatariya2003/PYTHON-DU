{
 "cells": [
  {
   "cell_type": "code",
   "execution_count": 1,
   "id": "a41e2ecf",
   "metadata": {},
   "outputs": [],
   "source": [
    "import numpy as np"
   ]
  },
  {
   "cell_type": "code",
   "execution_count": 2,
   "id": "066b9507",
   "metadata": {},
   "outputs": [
    {
     "data": {
      "text/plain": [
       "array([1, 2, 3, 4])"
      ]
     },
     "execution_count": 2,
     "metadata": {},
     "output_type": "execute_result"
    }
   ],
   "source": [
    "anp1 = np.array([1,2,3,4])\n",
    "anp1"
   ]
  },
  {
   "cell_type": "code",
   "execution_count": 3,
   "id": "92cdeb76",
   "metadata": {},
   "outputs": [
    {
     "data": {
      "text/plain": [
       "array([1, 3, 5, 7, 9])"
      ]
     },
     "execution_count": 3,
     "metadata": {},
     "output_type": "execute_result"
    }
   ],
   "source": [
    "anp2 = np.arange(1,11,2)\n",
    "anp2"
   ]
  },
  {
   "cell_type": "code",
   "execution_count": 4,
   "id": "6e3ca6f9",
   "metadata": {},
   "outputs": [
    {
     "data": {
      "text/plain": [
       "array([[0., 0.],\n",
       "       [0., 0.],\n",
       "       [0., 0.],\n",
       "       [0., 0.],\n",
       "       [0., 0.],\n",
       "       [0., 0.],\n",
       "       [0., 0.],\n",
       "       [0., 0.],\n",
       "       [0., 0.],\n",
       "       [0., 0.]])"
      ]
     },
     "execution_count": 4,
     "metadata": {},
     "output_type": "execute_result"
    }
   ],
   "source": [
    "anp3 = np.zeros((10,2))\n",
    "anp3"
   ]
  },
  {
   "cell_type": "code",
   "execution_count": 5,
   "id": "6ec09c63",
   "metadata": {},
   "outputs": [
    {
     "data": {
      "text/plain": [
       "array([[10., 10.],\n",
       "       [10., 10.],\n",
       "       [10., 10.],\n",
       "       [10., 10.],\n",
       "       [10., 10.],\n",
       "       [10., 10.],\n",
       "       [10., 10.],\n",
       "       [10., 10.],\n",
       "       [10., 10.],\n",
       "       [10., 10.]])"
      ]
     },
     "execution_count": 5,
     "metadata": {},
     "output_type": "execute_result"
    }
   ],
   "source": [
    "anp4 = np.ones((10,2))\n",
    "anp4 =  anp4 * 10\n",
    "anp4"
   ]
  },
  {
   "cell_type": "code",
   "execution_count": 6,
   "id": "d9fe4dd2",
   "metadata": {},
   "outputs": [
    {
     "data": {
      "text/plain": [
       "array([[1., 0., 0., 0., 0.],\n",
       "       [0., 1., 0., 0., 0.],\n",
       "       [0., 0., 1., 0., 0.],\n",
       "       [0., 0., 0., 1., 0.],\n",
       "       [0., 0., 0., 0., 1.]])"
      ]
     },
     "execution_count": 6,
     "metadata": {},
     "output_type": "execute_result"
    }
   ],
   "source": [
    "anp5 = np.eye(5)\n",
    "anp5"
   ]
  },
  {
   "cell_type": "code",
   "execution_count": 7,
   "id": "268e2f0a",
   "metadata": {},
   "outputs": [
    {
     "data": {
      "text/plain": [
       "array([ 0.,  5., 10., 15., 20., 25.])"
      ]
     },
     "execution_count": 7,
     "metadata": {},
     "output_type": "execute_result"
    }
   ],
   "source": [
    "anp6 = np.linspace(0,25,6)\n",
    "anp6"
   ]
  },
  {
   "cell_type": "code",
   "execution_count": 8,
   "id": "6979d51d",
   "metadata": {},
   "outputs": [
    {
     "data": {
      "text/plain": [
       "2"
      ]
     },
     "execution_count": 8,
     "metadata": {},
     "output_type": "execute_result"
    }
   ],
   "source": [
    "len(anp5.shape)"
   ]
  },
  {
   "cell_type": "code",
   "execution_count": 9,
   "id": "3ea0d6da",
   "metadata": {},
   "outputs": [
    {
     "data": {
      "text/plain": [
       "array([[[ 1,  2,  3],\n",
       "        [ 4,  5,  6],\n",
       "        [ 7,  8,  9]],\n",
       "\n",
       "       [[10, 11, 12],\n",
       "        [13, 14, 15],\n",
       "        [16, 17, 18]],\n",
       "\n",
       "       [[19, 20, 21],\n",
       "        [22, 23, 24],\n",
       "        [25, 26, 27]]])"
      ]
     },
     "execution_count": 9,
     "metadata": {},
     "output_type": "execute_result"
    }
   ],
   "source": [
    "anp7 = np.arange(1,28)\n",
    "temp = anp7.reshape(3,3,3)\n",
    "temp"
   ]
  },
  {
   "cell_type": "markdown",
   "id": "ff36ebaf",
   "metadata": {},
   "source": [
    "<h1> Numpy Random </h1>"
   ]
  },
  {
   "cell_type": "code",
   "execution_count": 10,
   "id": "d603c6c3",
   "metadata": {},
   "outputs": [
    {
     "data": {
      "text/plain": [
       "array([[0.54563949, 0.27413867, 0.69622249, 0.38278524],\n",
       "       [0.10799144, 0.72969064, 0.35828998, 0.48872023],\n",
       "       [0.88210367, 0.29794894, 0.86017664, 0.61629482]])"
      ]
     },
     "execution_count": 10,
     "metadata": {},
     "output_type": "execute_result"
    }
   ],
   "source": [
    "a = np.random.rand(3,4)\n",
    "a"
   ]
  },
  {
   "cell_type": "code",
   "execution_count": 11,
   "id": "99aaa72e",
   "metadata": {},
   "outputs": [
    {
     "data": {
      "text/plain": [
       "array([2, 1, 2, 2, 1, 2, 2, 1, 2, 1])"
      ]
     },
     "execution_count": 11,
     "metadata": {},
     "output_type": "execute_result"
    }
   ],
   "source": [
    "anp8 = np.random.randint(1,3,10)\n",
    "anp8"
   ]
  },
  {
   "cell_type": "code",
   "execution_count": 12,
   "id": "e1e5eabd",
   "metadata": {},
   "outputs": [
    {
     "data": {
      "text/plain": [
       "<function matplotlib.pyplot.show(close=None, block=None)>"
      ]
     },
     "execution_count": 12,
     "metadata": {},
     "output_type": "execute_result"
    },
    {
     "data": {
      "image/png": "[encoded data removed]",
      "text/plain": [
       "<Figure size 432x288 with 1 Axes>"
      ]
     },
     "metadata": {
      "needs_background": "light"
     },
     "output_type": "display_data"
    }
   ],
   "source": [
    "from matplotlib import pyplot as plt\n",
    "anp9 = np.random.rand(100000)\n",
    "\n",
    "plt.hist(anp9,100)\n",
    "plt.show"
   ]
  },
  {
   "cell_type": "code",
   "execution_count": 13,
   "id": "090d308f",
   "metadata": {},
   "outputs": [
    {
     "data": {
      "text/plain": [
       "<function matplotlib.pyplot.show(close=None, block=None)>"
      ]
     },
     "execution_count": 13,
     "metadata": {},
     "output_type": "execute_result"
    },
    {
     "data": {
      "image/png": "[encoded data removed]",
      "text/plain": [
       "<Figure size 432x288 with 1 Axes>"
      ]
     },
     "metadata": {
      "needs_background": "light"
     },
     "output_type": "display_data"
    }
   ],
   "source": [
    "from matplotlib import pyplot as plt\n",
    "anp10 = np.random.randn(100000000)\n",
    "\n",
    "plt.hist(anp10,100)\n",
    "plt.show"
   ]
  },
  {
   "cell_type": "code",
   "execution_count": 14,
   "id": "0984b002",
   "metadata": {},
   "outputs": [
    {
     "data": {
      "text/plain": [
       "array([[ 1,  2,  3,  4,  5],\n",
       "       [ 6,  7,  8,  9, 10],\n",
       "       [11, 12, 13, 14, 15],\n",
       "       [16, 17, 18, 19, 20],\n",
       "       [21, 22, 23, 24, 25]])"
      ]
     },
     "execution_count": 14,
     "metadata": {},
     "output_type": "execute_result"
    }
   ],
   "source": [
    "anp11 = np.arange(1,26).reshape(5,5)\n",
    "anp11"
   ]
  },
  {
   "cell_type": "code",
   "execution_count": 15,
   "id": "b10a5bec",
   "metadata": {},
   "outputs": [
    {
     "data": {
      "text/plain": [
       "array([ 4,  9, 14])"
      ]
     },
     "execution_count": 15,
     "metadata": {},
     "output_type": "execute_result"
    }
   ],
   "source": [
    "anp11[0:3,3]"
   ]
  },
  {
   "cell_type": "code",
   "execution_count": 16,
   "id": "5757bf88",
   "metadata": {},
   "outputs": [],
   "source": []
  },
  {
   "cell_type": "code",
   "execution_count": null,
   "id": "2d6ed017",
   "metadata": {},
   "outputs": [],
   "source": []
  },
  {
   "cell_type": "code",
   "execution_count": null,
   "id": "e3ddc8f2",
   "metadata": {},
   "outputs": [],
   "source": []
  },
  {
   "cell_type": "code",
   "execution_count": null,
   "id": "734f14f8",
   "metadata": {},
   "outputs": [],
   "source": []
  },
  {
   "cell_type": "code",
   "execution_count": null,
   "id": "2446ff11",
   "metadata": {},
   "outputs": [],
   "source": []
  },
  {
   "cell_type": "code",
   "execution_count": null,
   "id": "2219d196",
   "metadata": {},
   "outputs": [],
   "source": []
  },
  {
   "cell_type": "code",
   "execution_count": null,
   "id": "49cc01d9",
   "metadata": {},
   "outputs": [],
   "source": []
  },
  {
   "cell_type": "code",
   "execution_count": null,
   "id": "1014ac66",
   "metadata": {},
   "outputs": [],
   "source": []
  },
  {
   "cell_type": "code",
   "execution_count": null,
   "id": "061b05ce",
   "metadata": {},
   "outputs": [],
   "source": [
    "anp12 = np.random.randint(1,10,(3,3))\n",
    "anp12"
   ]
  },
  {
   "cell_type": "code",
   "execution_count": null,
   "id": "d2885845",
   "metadata": {},
   "outputs": [],
   "source": [
    "anp13 = np.random.randint(1,10,(3,3))\n",
    "anp13"
   ]
  },
  {
   "cell_type": "code",
   "execution_count": null,
   "id": "297489e0",
   "metadata": {},
   "outputs": [],
   "source": [
    "anp14 = anp12 @ anp13\n",
    "anp14"
   ]
  },
  {
   "cell_type": "code",
   "execution_count": null,
   "id": "17ebde25",
   "metadata": {},
   "outputs": [],
   "source": [
    "anp15 = np.arange(1,11)\n",
    "anp15"
   ]
  },
  {
   "cell_type": "code",
   "execution_count": null,
   "id": "c805538e",
   "metadata": {},
   "outputs": [],
   "source": [
    "tempa = anp15[2:4]\n",
    "tempa[:] = 500"
   ]
  },
  {
   "cell_type": "code",
   "execution_count": null,
   "id": "c957f7fd",
   "metadata": {},
   "outputs": [],
   "source": [
    "print(anp15)\n",
    "print(tempa)"
   ]
  },
  {
   "cell_type": "code",
   "execution_count": null,
   "id": "16e9105b",
   "metadata": {},
   "outputs": [],
   "source": [
    "anp16 = np.random.randint(100,200,10)\n",
    "anp16"
   ]
  },
  {
   "cell_type": "code",
   "execution_count": null,
   "id": "35e67e03",
   "metadata": {},
   "outputs": [],
   "source": [
    "anp16.sort()\n",
    "anp16"
   ]
  },
  {
   "cell_type": "code",
   "execution_count": null,
   "id": "aef5859a",
   "metadata": {},
   "outputs": [],
   "source": [
    "anp17 = np.array([45,34,89,90,23,10,45,67])\n",
    "anp17"
   ]
  },
  {
   "cell_type": "code",
   "execution_count": null,
   "id": "ed548f07",
   "metadata": {},
   "outputs": [],
   "source": [
    "tempc =  anp17[anp17 % 2 == 0]\n",
    "tempc[:] = 500\n",
    "anp17"
   ]
  },
  {
   "cell_type": "code",
   "execution_count": null,
   "id": "9ef28b88",
   "metadata": {},
   "outputs": [],
   "source": [
    "anp18 = np.array([1,1,1,111,1])\n",
    "anp18.std()"
   ]
  },
  {
   "cell_type": "code",
   "execution_count": null,
   "id": "2e5a3516",
   "metadata": {},
   "outputs": [],
   "source": []
  }
 ],
 "metadata": {
  "kernelspec": {
   "display_name": "Python 3 (ipykernel)",
   "language": "python",
   "name": "python3"
  },
  "language_info": {
   "codemirror_mode": {
    "name": "ipython",
    "version": 3
   },
   "file_extension": ".py",
   "mimetype": "text/x-python",
   "name": "python",
   "nbconvert_exporter": "python",
   "pygments_lexer": "ipython3",
   "version": "3.9.12"
  }
 },
 "nbformat": 4,
 "nbformat_minor": 5
}

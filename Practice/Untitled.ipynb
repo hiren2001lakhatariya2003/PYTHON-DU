{
 "cells": [
  {
   "cell_type": "code",
   "execution_count": 1,
   "id": "32b5dab7",
   "metadata": {},
   "outputs": [],
   "source": [
    "import numpy as np"
   ]
  },
  {
   "cell_type": "code",
   "execution_count": 2,
   "id": "2904f9d7",
   "metadata": {},
   "outputs": [
    {
     "name": "stdout",
     "output_type": "stream",
     "text": [
      "101\n",
      "102\n",
      "103\n",
      "104\n",
      "105\n",
      "106\n",
      "107\n",
      "108\n"
     ]
    }
   ],
   "source": [
    "f = open('mydata.csv')\n",
    "r=f.readlines()\n",
    "for s in r :\n",
    "    cols= s.split(',')\n",
    "    print(cols[0])\n",
    "    "
   ]
  },
  {
   "cell_type": "code",
   "execution_count": 3,
   "id": "df5d21d0",
   "metadata": {},
   "outputs": [],
   "source": [
    "import requests"
   ]
  },
  {
   "cell_type": "code",
   "execution_count": 4,
   "id": "d240b3c4",
   "metadata": {},
   "outputs": [],
   "source": [
    "import bs4"
   ]
  },
  {
   "cell_type": "code",
   "execution_count": 5,
   "id": "16d47d23",
   "metadata": {},
   "outputs": [],
   "source": [
    "res = requests.get(\"http://localhost:9000/demo.html\")"
   ]
  },
  {
   "cell_type": "code",
   "execution_count": 6,
   "id": "79b2a3f7",
   "metadata": {},
   "outputs": [
    {
     "name": "stdout",
     "output_type": "stream",
     "text": [
      "a\n",
      "b\n",
      "c\n",
      "d\n",
      "e\n",
      "f\n",
      "g\n",
      "h\n",
      "i\n",
      "j\n",
      "k\n"
     ]
    }
   ],
   "source": [
    "soup = bs4.BeautifulSoup(res.text,'lxml')\n",
    "\n",
    "allH1s = soup.select('h1')\n",
    "for h1 in allH1s:\n",
    "    print(h1.text)"
   ]
  },
  {
   "cell_type": "code",
   "execution_count": 8,
   "id": "cb7adfc6",
   "metadata": {},
   "outputs": [
    {
     "name": "stdout",
     "output_type": "stream",
     "text": [
      "0\n"
     ]
    }
   ],
   "source": [
    "import requests\n",
    "import bs4\n",
    "\n",
    "req = requests.get(\"https://www.21kschool.com\")\n",
    "\n",
    "types = bs4.BeautifulSoup(req.text,'lxml')\n",
    "\n",
    "stu = soup.select('#js-carousel-faculty > div.slick-list.draggable > div')\n",
    "print(len(stu))"
   ]
  },
  {
   "cell_type": "code",
   "execution_count": null,
   "id": "371288ec",
   "metadata": {},
   "outputs": [],
   "source": []
  }
 ],
 "metadata": {
  "kernelspec": {
   "display_name": "Python 3 (ipykernel)",
   "language": "python",
   "name": "python3"
  },
  "language_info": {
   "codemirror_mode": {
    "name": "ipython",
    "version": 3
   },
   "file_extension": ".py",
   "mimetype": "text/x-python",
   "name": "python",
   "nbconvert_exporter": "python",
   "pygments_lexer": "ipython3",
   "version": "3.9.12"
  }
 },
 "nbformat": 4,
 "nbformat_minor": 5
}

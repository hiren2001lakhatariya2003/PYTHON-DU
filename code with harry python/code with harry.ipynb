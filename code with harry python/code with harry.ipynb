{
 "cells": [
  {
   "cell_type": "markdown",
   "metadata": {},
   "source": [
    "# (1) list and list function"
   ]
  },
  {
   "cell_type": "code",
   "execution_count": 6,
   "metadata": {},
   "outputs": [
    {
     "name": "stdout",
     "output_type": "stream",
     "text": [
      "1\n"
     ]
    }
   ],
   "source": [
    "accesories = [\"handsfree\",\"mobile\",\"cover\",\"temperd glass\",67]\n",
    "#print(accesories)\n",
    "#print(accesories[0])\n",
    "# numbrers=[1,2,3,4,5,6,2,3,7,12,8,9]\n",
    "# numbrers.sort()\n",
    "# print(numbrers[5:1:-1])\n",
    "\n",
    "print(accesories.count(67))\n"
   ]
  },
  {
   "cell_type": "markdown",
   "metadata": {},
   "source": [
    "# (2) dictionary"
   ]
  },
  {
   "cell_type": "code",
   "execution_count": 7,
   "metadata": {},
   "outputs": [
    {
     "name": "stdout",
     "output_type": "stream",
     "text": [
      "for turn\n"
     ]
    }
   ],
   "source": [
    "# d1={}\n",
    "# print(type(d1))\n",
    "\n",
    "# print\n",
    "'''\n",
    "car={\"stering\":\"for turn\",\"wheel\":\"for running\",\"airbag\":\"for protection\",\"sterio\":{\"music\":\"for entertainment\",\"call\":\"for receive call or make a call\"}}\n",
    "print(car[\"sterio\"][\"music\"])\n",
    "print(car[\"stering\"])\n",
    "'''\n",
    "\n",
    "# for add key-value\n",
    "'''\n",
    "car[\"4465\"]='hiren\\'s car'\n",
    "print(car)\n",
    "'''\n",
    "\n",
    "# for remove key-value\n",
    "\n",
    "'''\n",
    "del car[\"airbag\"]\n",
    "print(car)\n",
    "'''\n",
    "\n",
    "from traceback import print_tb\n",
    "\n",
    "\n",
    "car={\"stering\":\"for turn\",\"wheel\":\"for running\",\"airbag\":\"for protection\",\"sterio\":{\"music\":\"for entertainment\",\"call\":\"for receive call or make a call\"}}\n",
    "\n",
    "# print(car.keys()) #print all keys\n",
    "# print(car.items()) #print all the elementts include keys and values.\n",
    "# print(car.values()) # print all the valuse of keys.\n",
    "print(car[\"stering\"])"
   ]
  },
  {
   "cell_type": "markdown",
   "metadata": {},
   "source": [
    "# (3) exercise of dictionary"
   ]
  },
  {
   "cell_type": "code",
   "execution_count": 8,
   "metadata": {},
   "outputs": [],
   "source": [
    "word = input(\"Enter the word:\")\n",
    "\n",
    "dictionary={ \"car\":\"a four-wheeled road vehicle\" , \"caveat\":\"warning\" , \"zionism\":\"politics\" , \"yield\":\"produce\" , \"karma\":\"action\"}\n",
    "\n",
    "if word in dictionary:\n",
    "    print(dictionary[word])\n",
    "else:\n",
    "    print(\"not found\")"
   ]
  },
  {
   "cell_type": "markdown",
   "metadata": {},
   "source": [
    "# (4) SET"
   ]
  },
  {
   "cell_type": "code",
   "execution_count": 66,
   "metadata": {},
   "outputs": [
    {
     "name": "stdout",
     "output_type": "stream",
     "text": [
      "True\n"
     ]
    }
   ],
   "source": [
    "\n",
    "# s={\"hiren\",\"kdj\",\"lakhaytar\",\"hgdwjkhdw\",\"jdshj\"}\n",
    "\n",
    "# print(s)\n",
    "# s.add(\"praful\")\n",
    "\n",
    "# s=set()\n",
    "# s.add(1)\n",
    "# s.add(2)\n",
    "# s1={1,2,3}\n",
    "# r=s.(s1)\n",
    "# print(r)\n",
    "\n",
    "x = {\"google\", \"microsoft\", \"apple\"}\n",
    "y = {\"google\", \"microsoft\", \"apple\",\"hiren\"}\n",
    "\n",
    "z = x.issubset(y) \n",
    "\n",
    "print(z)"
   ]
  },
  {
   "cell_type": "markdown",
   "metadata": {},
   "source": [
    "# (5) short-hand If-Else"
   ]
  },
  {
   "cell_type": "code",
   "execution_count": null,
   "metadata": {},
   "outputs": [
    {
     "name": "stdout",
     "output_type": "stream",
     "text": [
      "9\n"
     ]
    }
   ],
   "source": [
    "a=5\n",
    "b=9\n",
    "print(a) if(a>b)else print(b)"
   ]
  },
  {
   "cell_type": "markdown",
   "metadata": {},
   "source": [
    "# (6) function"
   ]
  },
  {
   "cell_type": "code",
   "execution_count": 6,
   "metadata": {},
   "outputs": [
    {
     "name": "stdout",
     "output_type": "stream",
     "text": [
      "this is the function for print hello world\n"
     ]
    }
   ],
   "source": [
    "def fun():\n",
    "    \"\"\"this is the function for print hello world\"\"\"\n",
    "    print(\"hello hiren\")\n",
    "    \n",
    "\n",
    "print(fun.__doc__) # return docstring from function"
   ]
  },
  {
   "cell_type": "markdown",
   "metadata": {},
   "source": [
    "# (7)  try-catch"
   ]
  },
  {
   "cell_type": "code",
   "execution_count": 16,
   "metadata": {},
   "outputs": [
    {
     "name": "stdout",
     "output_type": "stream",
     "text": [
      "you enter valid number\n",
      "closed\n"
     ]
    }
   ],
   "source": [
    "a=int(input())\n",
    "b=(input())\n",
    "\n",
    "try:\n",
    "    print(\"the sum of {} and {} is : {}\".format(a,b,a+b))\n",
    "except Exception as e:\n",
    "    print(\"you enter valid number\")\n",
    "print(\"closed\")"
   ]
  },
  {
   "cell_type": "markdown",
   "metadata": {},
   "source": [
    "# (8) file io basics"
   ]
  },
  {
   "cell_type": "code",
   "execution_count": 75,
   "metadata": {},
   "outputs": [
    {
     "name": "stdout",
     "output_type": "stream",
     "text": [
      "['hiren is a good boy.\\n', 'hiren is the king of universe.\\n', 'hiren is very smart.']\n"
     ]
    }
   ],
   "source": [
    "# file io basics\n",
    "\n",
    "\"\"\"\n",
    "\"r\" - open file for reading - default mode\n",
    "\"w\" - open file for writing\n",
    "\"x\" - create the file when it is not exist\n",
    "\"a\" - (append) add more content to a file\n",
    "\"t\" - text mode - default mode\n",
    "\"b\" - binary mode\n",
    "\"+\" - (basically for update) read and write\n",
    "\"\"\"\n",
    "\n",
    "f = open(\"hiren.txt\",\"rt\") # FOR NORMAL MODE\n",
    "# f = open(\"hiren.txt\",\"rb\") # FOR BINARY MODE\n",
    "\n",
    "\n",
    "\"\"\" FOR CHARACTER WISE READ  \"\"\"\n",
    "# content= f.read(44)\n",
    "# print(content,\"\\n\")\n",
    "\n",
    "\"\"\" FOR FULL CONTENT READ \"\"\" \n",
    "# content= f.read()\n",
    "# print(content)\n",
    "\n",
    "\"\"\" LINE BY LINE PRINT THE CONTENT \"\"\"\n",
    "# for line in f:\n",
    "#     print(line,end=\"\")\n",
    "\n",
    "\"\"\" ONE LINE PRINT TEXT \"\"\"\n",
    "# print(f.readline()) #by default new line character \" \\n \" 2nd line\n",
    "# print(f.readline()) #by default new line character \" \\n \" 1st line\n",
    "# print(f.readline()) #by default new line character \" \\n \" 3rd line\n",
    "\n",
    "\"\"\" for print the list of all lines includes\"\"\"\n",
    "print(f.readlines()) \n",
    "f.close()\n"
   ]
  },
  {
   "cell_type": "markdown",
   "metadata": {},
   "source": [
    "# (9) EXERCISE -3"
   ]
  },
  {
   "cell_type": "code",
   "execution_count": null,
   "metadata": {},
   "outputs": [],
   "source": [
    "#guess the number from the user, find actual value\n",
    "\n",
    "from random import random\n",
    "guess_number = int(random()*100)\n",
    "\n",
    "\n",
    "print(\"Enter the number for guess the actual number between 1 to 100\")\n",
    "input_number= int((input(\"Enter :\")))\n",
    "\n",
    "trial = 0\n",
    "2\n",
    "while trial!=9:\n",
    "    if(input_number==guess_number):\n",
    "        print(\"You are got it, Well Done!!\")\n",
    "        print(\"you take\",trial,\"trials for correct answer\")\n",
    "        break\n",
    "    \n",
    "    else:\n",
    "        if(input_number>guess_number):\n",
    "            print(\"No!, you goes to low\")\n",
    "            trial+=1\n",
    "            print(\"getting chances : \",10-trial)\n",
    "            input_number = int(input(\"guess again :\"))\n",
    "            \n",
    "            \n",
    "        else:\n",
    "            print(\"No!, you goes to high\")\n",
    "            trial+=1\n",
    "            print(\"chances : \",10-trial)\n",
    "            input_number = int(input(\"guess again :\"))\n",
    "else:\n",
    "    print(\"Sorry Dost,Game Over\")\n",
    "\n"
   ]
  },
  {
   "cell_type": "markdown",
   "metadata": {},
   "source": [
    "# (10) file writing an reading"
   ]
  },
  {
   "cell_type": "code",
   "execution_count": 46,
   "metadata": {},
   "outputs": [
    {
     "name": "stdout",
     "output_type": "stream",
     "text": [
      "7\n"
     ]
    }
   ],
   "source": [
    "# f = open(\"hiren2.txt\",\"w\") # JE HASE TE DELETE THAINE NAVU PRINT THASE. \n",
    "# f = open(\"hiren2.txt\",\"a\") # JE HASE TEMA NAVU PRINT THASE.\n",
    "f = open(\"hiren2.txt\",\"r+\") # READ AND WRITE BOTH MODE\n",
    "a= f.write(\"hiren\\t\\n\") \n",
    "print(a)\n",
    "f.close()"
   ]
  },
  {
   "cell_type": "markdown",
   "metadata": {},
   "source": [
    "# (11) EXERCISE-4"
   ]
  },
  {
   "cell_type": "code",
   "execution_count": 88,
   "metadata": {},
   "outputs": [
    {
     "name": "stdout",
     "output_type": "stream",
     "text": [
      "* \n",
      "* * \n",
      "* * * \n",
      "* * * * \n",
      "* * * * * \n"
     ]
    }
   ],
   "source": [
    "#PATTERN PRINTING on value of true or false\n",
    "\n",
    "\n",
    "\n",
    "\n",
    "n = int(input(\"Enter the number for print the pattern :\"))\n",
    "boolean = int(input(\"Enter 0 or 1 for True-False\"))\n",
    "\n",
    "while (boolean!=1 or boolean!=0):\n",
    "    if boolean==1:\n",
    "        boolean=True\n",
    "        break\n",
    "\n",
    "    elif boolean==0:\n",
    "        boolean=False\n",
    "        break\n",
    "    else:\n",
    "        print(\"please enter 1 or 0\")\n",
    "        boolean = int(input(\"enter again :\"))\n",
    "\n",
    "if boolean==True:\n",
    "\n",
    "    for i in range(1,n+1):\n",
    "        for j in range(i):\n",
    "            print(\"*\",end=\" \")\n",
    "        print(\"\")\n",
    "if boolean==False:\n",
    "    for i in range(n,0,-1):\n",
    "            for j in range(i):\n",
    "                print(\"*\",end=\" \")\n",
    "            print(\"\")\n",
    "\n",
    "\n"
   ]
  }
 ],
 "metadata": {
  "kernelspec": {
   "display_name": "Python 3.10.6 64-bit",
   "language": "python",
   "name": "python3"
  },
  "language_info": {
   "codemirror_mode": {
    "name": "ipython",
    "version": 3
   },
   "file_extension": ".py",
   "mimetype": "text/x-python",
   "name": "python",
   "nbconvert_exporter": "python",
   "pygments_lexer": "ipython3",
   "version": "3.10.6"
  },
  "orig_nbformat": 4,
  "vscode": {
   "interpreter": {
    "hash": "aee8b7b246df8f9039afb4144a1f6fd8d2ca17a180786b69acc140d282b71a49"
   }
  }
 },
 "nbformat": 4,
 "nbformat_minor": 2
}

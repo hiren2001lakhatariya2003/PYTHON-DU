{
 "cells": [
  {
   "cell_type": "markdown",
   "metadata": {},
   "source": [
    "# (1) list and list function"
   ]
  },
  {
   "cell_type": "code",
   "execution_count": 97,
   "metadata": {},
   "outputs": [
    {
     "name": "stdout",
     "output_type": "stream",
     "text": [
      "1\n"
     ]
    }
   ],
   "source": [
    "accesories = [\"handsfree\",\"mobile\",\"cover\",\"temperd glass\",67]\n",
    "#print(accesories)\n",
    "#print(accesories[0])\n",
    "# numbrers=[1,2,3,4,5,6,2,3,7,12,8,9]\n",
    "# numbrers.sort()\n",
    "# print(numbrers[5:1:-1])\n",
    "\n",
    "print(accesories.count(67))\n"
   ]
  },
  {
   "cell_type": "markdown",
   "metadata": {},
   "source": [
    "# (2) dictionary"
   ]
  },
  {
   "cell_type": "code",
   "execution_count": 49,
   "metadata": {},
   "outputs": [
    {
     "name": "stdout",
     "output_type": "stream",
     "text": [
      "for turn\n"
     ]
    }
   ],
   "source": [
    "# d1={}\n",
    "# print(type(d1))\n",
    "\n",
    "# print\n",
    "'''\n",
    "car={\"stering\":\"for turn\",\"wheel\":\"for running\",\"airbag\":\"for protection\",\"sterio\":{\"music\":\"for entertainment\",\"call\":\"for receive call or make a call\"}}\n",
    "print(car[\"sterio\"][\"music\"])\n",
    "print(car[\"stering\"])\n",
    "'''\n",
    "\n",
    "# for add key-value\n",
    "'''\n",
    "car[\"4465\"]='hiren\\'s car'\n",
    "print(car)\n",
    "'''\n",
    "\n",
    "# for remove key-value\n",
    "\n",
    "'''\n",
    "del car[\"airbag\"]\n",
    "print(car)\n",
    "'''\n",
    "\n",
    "from traceback import print_tb\n",
    "\n",
    "\n",
    "car={\"stering\":\"for turn\",\"wheel\":\"for running\",\"airbag\":\"for protection\",\"sterio\":{\"music\":\"for entertainment\",\"call\":\"for receive call or make a call\"}}\n",
    "\n",
    "# print(car.keys()) #print all keys\n",
    "# print(car.items()) #print all the elementts include keys and values.\n",
    "# print(car.values()) # print all the valuse of keys.\n",
    "print(car[\"stering\"])"
   ]
  },
  {
   "cell_type": "markdown",
   "metadata": {},
   "source": [
    "# (3) exercise of dictionary"
   ]
  },
  {
   "cell_type": "code",
   "execution_count": 64,
   "metadata": {},
   "outputs": [
    {
     "name": "stdout",
     "output_type": "stream",
     "text": [
      "a four-wheeled road vehicle\n"
     ]
    }
   ],
   "source": [
    "word = input(\"Enter the word:\")\n",
    "\n",
    "dictionary={ \"car\":\"a four-wheeled road vehicle\" , \"caveat\":\"warning\" , \"zionism\":\"politics\" , \"yield\":\"produce\" , \"karma\":\"action\"}\n",
    "\n",
    "if word in dictionary:\n",
    "    print(dictionary[word])\n",
    "else:\n",
    "    print(\"not found\")"
   ]
  },
  {
   "cell_type": "markdown",
   "metadata": {},
   "source": [
    "# (4) SET"
   ]
  },
  {
   "cell_type": "code",
   "execution_count": 125,
   "metadata": {},
   "outputs": [
    {
     "name": "stdout",
     "output_type": "stream",
     "text": [
      "True\n"
     ]
    }
   ],
   "source": [
    "\n",
    "# s={\"hiren\",\"kdj\",\"lakhaytar\",\"hgdwjkhdw\",\"jdshj\"}\n",
    "\n",
    "# print(s)\n",
    "# s.add(\"praful\")\n",
    "\n",
    "# s=set()\n",
    "# s.add(1)\n",
    "# s.add(2)\n",
    "# s1={1,2,3}\n",
    "# r=s.(s1)\n",
    "# print(r)\n",
    "\n",
    "x = {\"google\", \"microsoft\", \"apple\"}\n",
    "y = {\"google\", \"microsoft\", \"apple\",\"hiren\"}\n",
    "\n",
    "z = x.issubset(y) \n",
    "\n",
    "print(z)"
   ]
  }
 ],
 "metadata": {
  "kernelspec": {
   "display_name": "Python 3.10.6 64-bit",
   "language": "python",
   "name": "python3"
  },
  "language_info": {
   "codemirror_mode": {
    "name": "ipython",
    "version": 3
   },
   "file_extension": ".py",
   "mimetype": "text/x-python",
   "name": "python",
   "nbconvert_exporter": "python",
   "pygments_lexer": "ipython3",
   "version": "3.10.6"
  },
  "orig_nbformat": 4,
  "vscode": {
   "interpreter": {
    "hash": "aee8b7b246df8f9039afb4144a1f6fd8d2ca17a180786b69acc140d282b71a49"
   }
  }
 },
 "nbformat": 4,
 "nbformat_minor": 2
}
